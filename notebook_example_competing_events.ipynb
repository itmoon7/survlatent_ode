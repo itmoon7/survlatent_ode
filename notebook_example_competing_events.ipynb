{
 "cells": [
  {
   "cell_type": "code",
   "execution_count": 1,
   "metadata": {},
   "outputs": [],
   "source": [
    "# import necessary pacakages\n",
    "import pandas as pd\n",
    "import numpy as np\n",
    "from lib.neural_ode_surv import *\n",
    "from lib.utils import *\n",
    "import warnings\n",
    "import matplotlib.pyplot as plt\n",
    "\n",
    "# check for available GPUs\n",
    "DEVICE = torch.device(\"cuda:0\" if torch.cuda.is_available() else \"cpu\")"
   ]
  },
  {
   "cell_type": "markdown",
   "metadata": {},
   "source": [
    "## Time to multiple events prediction example : Framingham data\n",
    "### Loading and pre-processing the data\n",
    "Event of interest : ANYCHD (Angina Pectoris, Myocardial infarction, Coronary Insufficiency, or Fatal Coronary Heart Disease)\n",
    "\n",
    "Competing event : Death from any cause"
   ]
  },
  {
   "cell_type": "code",
   "execution_count": 2,
   "metadata": {},
   "outputs": [],
   "source": [
    "# For more details on the dataset and covariates in Framingham data, \n",
    "# see : https://biolincc.nhlbi.nih.gov/media/teachingstudies/FHS_Teaching_Longitudinal_Data_Documentation_2021a.pdf?link_time=2022-02-03_18:20:47.023970\n",
    "# this publicly available data has a person-time format for longitudinal measurements \n",
    "df_framingham = pd.read_csv('data/framingham.csv') \n",
    "\n",
    "# Specify categorical features\n",
    "feat_cat = ['SEX', 'CIGPDAY', 'CURSMOKE','educ', 'DIABETES', 'PREVSTRK', 'PREVHYP', 'BPMEDS']\n",
    "# Specify continuous features\n",
    "feat_cont = ['AGE', 'SYSBP', 'DIABP', 'TOTCHOL', 'HDLC', 'LDLC', 'BMI', 'GLUCOSE', 'HEARTRTE']\n",
    "# Specify features which SurvLatent ODE is set to reconstruct\n",
    "feat_reconstr = ['SYSBP', 'DIABP', 'TOTCHOL', 'HDLC', 'LDLC', 'BMI', 'GLUCOSE', 'HEARTRTE']\n",
    "# Specify data_info_dic as follows \n",
    "# id_col : unique identifier for a patient\n",
    "# event_col : columns correspond to event indicator; this should be binary\n",
    "# time_col : column corresponds to time of measurement\n",
    "# time_to_event_col : column corresponds to observed time to event (i.e. t_i = min(T_i, C_i))\n",
    "# feat_cat : list containing a set of categorical features\n",
    "# feat_cont : list containing a set of continuous valued features\n",
    "data_info_dic = {'id_col':'RANDID', 'event_col':['ANYCHD', 'DEATH'], 'time_to_event_col':['TIMECHD', 'TIMEDTH'],\n",
    "                 'time_col':'TIME', 'feat_cat':feat_cat, 'feat_cont':feat_cont}\n",
    "\n",
    "feats_dim = len(feat_cat) + len(feat_cont)\n",
    "reconstr_dim = len(feat_reconstr)\n",
    "if type(data_info_dic['event_col']) == list:\n",
    "    n_events = len(data_info_dic['event_col'])\n",
    "else:\n",
    "    n_events = 1\n",
    "# Given that the Framingham study is a long follow-up study which spans about 20 years (or around 7500 days),  \n",
    "# we discretize follow-up time by 10 days. Therefore, our time unit is 10-day.\n",
    "df_framingham[data_info_dic['time_col']] = np.round(df_framingham[data_info_dic['time_col']].values/10)\n",
    "df_framingham[data_info_dic['time_to_event_col']] = np.round(df_framingham[data_info_dic['time_to_event_col']].values/10)\n",
    "\n",
    "# We perform 0.65-0.15-0.2 (train-valid-test) split\n",
    "test_set_frac = 0.2; train_set_frac = 0.65\n",
    "random_seed = 1991 # set random seed for reproducibility\n",
    "np.random.seed(random_seed)\n",
    "\n",
    "sample_ids = set(df_framingham.RANDID.values)\n",
    "sample_ids_test = set(np.random.choice(list(sample_ids), size = int(len(sample_ids)*test_set_frac), replace = False))\n",
    "sample_ids_train = \tset(np.random.choice(list(sample_ids - sample_ids_test),\n",
    "                                         size = int(len(sample_ids - sample_ids_test)*train_set_frac/(1-test_set_frac)),\n",
    "                                         replace = False))\n",
    "sample_ids_valid = sample_ids - sample_ids_test - sample_ids_train\n",
    "\n",
    "data_test = (df_framingham.loc[df_framingham.RANDID.isin(sample_ids_test)].\n",
    "             sort_values([data_info_dic['id_col'], data_info_dic['time_col']], ascending=(True, True)))\n",
    "data_train = (df_framingham.loc[df_framingham.RANDID.isin(sample_ids_train)].\n",
    "              sort_values([data_info_dic['id_col'], data_info_dic['time_col']], ascending=(True, True)))\n",
    "data_valid = (df_framingham.loc[df_framingham.RANDID.isin(sample_ids_valid)].\n",
    "              sort_values([data_info_dic['id_col'], data_info_dic['time_col']], ascending=(True, True)))\n",
    "\n",
    "# outlier processing\n",
    "# We threshold outliers (i.e. feature vals < 0.005 percentile of corresponding feature vals in training set \n",
    "# AND feature vals > 0.995 percentile of corresponding features vals in training set)\n",
    "feats_oi = feat_cont + ['CIGPDAY']\n",
    "feat_to_min_max_dict = {}\n",
    "for feat in feats_oi:\n",
    "    min_feat = np.quantile(data_train[feat].dropna().values, q=0.005)\n",
    "    max_feat = np.quantile(data_train[feat].dropna().values, q=0.995)\n",
    "    data_train.loc[data_train[feat] < min_feat, feat] = min_feat\n",
    "    data_train.loc[data_train[feat] > max_feat, feat] = max_feat\n",
    "    feat_to_min_max_dict[feat] = (min_feat, max_feat)\n",
    "    # control outliers in the valid + test cohorts using training set\n",
    "    data_valid.loc[data_valid[feat] < min_feat, feat] = min_feat\n",
    "    data_valid.loc[data_valid[feat] > max_feat, feat] = max_feat\n",
    "    data_test.loc[data_test[feat] < min_feat, feat] = min_feat\n",
    "    data_test.loc[data_test[feat] > max_feat, feat] = max_feat"
   ]
  },
  {
   "cell_type": "markdown",
   "metadata": {},
   "source": [
    "## Choose model hyperparameters and instantiate the model object"
   ]
  },
  {
   "cell_type": "code",
   "execution_count": 3,
   "metadata": {},
   "outputs": [],
   "source": [
    "# lr : learning rate\n",
    "# surv_loss_scale : determines the scaling factor for the survival loss in the total loss\n",
    "# wait_until_full_surv_loss : wait # epochs until the full survival loss scaling, which allows the model to learn input representation before tuning survival estimates.\n",
    "batch_size = 100; lr = 0.01; surv_loss_scale = 100; wait_until_full_surv_loss = 3; early_stopping = True;\n",
    "# ODE-RNN encoder\n",
    "# enc_f_nn_layers : # of layers in the neural networks function f() for learning the latent dynamics on the encoder side\n",
    "# enc_latent_dim : dimensionality in the latent embedding on the encoder side\n",
    "# num_units_gru : # of units in each GRU cell\n",
    "enc_latent_dim = 50; enc_f_nn_layers = 5; num_units_gru = 80; \n",
    "\n",
    "# Decoder \n",
    "# dec_g_nn_layers : # of layers in the neural networks function g() for learning the latent dynamics on the decoder side\n",
    "# dec_latent_dim : dimensionality in the latent embedding on the decoder side\n",
    "# haz_dec_layers : # of layers in the cause-specific decoder module for hazard estimation\n",
    "# num_units_ode : # of units in function f() and g()\n",
    "dec_g_nn_layers = 7; dec_latent_dim = 40; haz_dec_layers = 3; num_units_ode = 70\n",
    "\n",
    "# Specify the prediction window to 8000 days from the entry with 10-day as a unit time\n",
    "max_pred_window = 800\n",
    "n_epochs =30 # number of training epochs\n",
    "\n",
    "# instantiate the model :\n",
    "model = SurvLatentODE(input_dim=feats_dim, reconstr_dim=reconstr_dim, dec_latent_dim=dec_latent_dim,\n",
    "                      enc_latent_dim=enc_latent_dim, enc_f_nn_layers=enc_f_nn_layers, \n",
    "                      dec_g_nn_layers=dec_g_nn_layers, num_units_ode=num_units_ode, num_units_gru=num_units_gru,\n",
    "                      device=DEVICE, n_events=n_events, haz_dec_layers=haz_dec_layers)\n",
    "# set the unique identifier for the corresponding training\n",
    "run_id = 'framingham_competing_events_example_v1_1'"
   ]
  },
  {
   "cell_type": "markdown",
   "metadata": {},
   "source": [
    "## Training and evaluating the model"
   ]
  },
  {
   "cell_type": "code",
   "execution_count": null,
   "metadata": {
    "scrolled": true
   },
   "outputs": [
    {
     "name": "stderr",
     "output_type": "stream",
     "text": [
      "Pre-processing data...: 100%|██████████| 2882/2882 [00:00<00:00, 25792.93it/s]\n"
     ]
    },
    {
     "name": "stdout",
     "output_type": "stream",
     "text": [
      "excluded samples due to event times overlapping last observation times (i.e. remaining t_i = 0) :  [76273, 208566, 231492, 428306, 445400, 556045, 571377, 599475, 797308, 946128, 972314, 1075504, 1080397, 1232204, 1263082, 1406606, 1568334, 1663651, 1695438, 1798396, 1954038, 2087324, 2108588, 2134396, 2180046, 2181152, 2408348, 2434794, 2448708, 2474378, 2483517, 2507740, 2564697, 2640601, 2646666, 2682411, 2708769, 2727755, 2839250, 2865166, 2951629, 3117784, 3235453, 3361368, 3455001, 3587516, 3603542, 3683894, 3702628, 3710385, 3779954, 3810088, 3915943, 3927641, 4030316, 4066905, 4210168, 4220542, 4227351, 4229307, 4244133, 4295921, 4362066, 4504564, 4543147, 4637896, 4645346, 4700914, 4719511, 4754059, 4757585, 4897828, 4903592, 5130897, 5187398, 5266590, 5386797, 5406199, 5561922, 5571109, 5610759, 5611619, 5654796, 5784616, 5837883, 5871074, 5917953, 6171121, 6442383, 6662624, 6720746, 6759187, 7165088, 7173129, 7215259, 7392212, 7414089, 7416933, 7447033, 7507638, 7568367, 7670056, 7671700, 7730009, 8009750, 8037533, 8276879, 8359476, 8369928, 8511124, 8620013, 8693562, 8703932, 8856516, 8894297, 9115104, 9184034, 9187843, 9211350, 9211709, 9309268, 9524061, 9550624, 9551094, 9562666, 9570274, 9580415, 9679810, 9746116, 9838321, 9964282]\n",
      "n =  131\n"
     ]
    },
    {
     "name": "stderr",
     "output_type": "stream",
     "text": [
      "Pre-processing data...: 100%|██████████| 666/666 [00:00<00:00, 28933.72it/s]\n"
     ]
    },
    {
     "name": "stdout",
     "output_type": "stream",
     "text": [
      "excluded samples due to event times overlapping last observation times (i.e. remaining t_i = 0) :  [414678, 512339, 1101060, 2080190, 2097493, 3158323, 3718050, 4233073, 4588247, 4614345, 4726021, 5080716, 5865112, 6316687, 6949688, 7410564, 7546881, 7559394, 7668298, 8083473, 8466833, 9380233, 9802787, 9868819]\n",
      "n =  24\n"
     ]
    },
    {
     "name": "stderr",
     "output_type": "stream",
     "text": [
      "/Users/intaemoon/github/survlatent_ode/lib/utils.py\n",
      "\n"
     ]
    },
    {
     "name": "stdout",
     "output_type": "stream",
     "text": [
      "using currently existing directory :  model_performance/framingham_competing_events_example_v1_1\n",
      "using currently existing directory :  surv_curves/framingham_competing_events_example_v1_1\n"
     ]
    },
    {
     "name": "stderr",
     "output_type": "stream",
     "text": [
      "Training across 30 epochs:   3%|▎         | 27/840 [01:27<44:03,  3.25s/it]"
     ]
    },
    {
     "name": "stdout",
     "output_type": "stream",
     "text": [
      "Epoch :  1\n"
     ]
    },
    {
     "name": "stderr",
     "output_type": "stream",
     "text": [
      "\n",
      "Loading validation set...:   0%|          | 0/4 [00:00<?, ?it/s]\u001b[A\n",
      "Loading validation set...:  25%|██▌       | 1/4 [00:00<00:01,  1.72it/s]\u001b[A\n",
      "Loading validation set...:  50%|█████     | 2/4 [00:01<00:01,  1.85it/s]\u001b[A\n",
      "Loading validation set...:  75%|███████▌  | 3/4 [00:01<00:00,  1.88it/s]\u001b[A\n",
      "Loading validation set...: 100%|██████████| 4/4 [00:01<00:00,  2.11it/s]\u001b[A\n"
     ]
    },
    {
     "name": "stdout",
     "output_type": "stream",
     "text": [
      "\n",
      "\n",
      "============ Validation set performance ============\n",
      "survival log-likelihood :  -2480.2134\n",
      "reconstr. likelihood :  0.8462\n",
      "----------------------------------------------------\n",
      "outcome :  1\n",
      "remaining time-to-event in validation/test set [25%, 37.5%, 50%, 62.5%, 75%] percentiles :  [ 60 108 146 185 219]\n"
     ]
    },
    {
     "name": "stderr",
     "output_type": "stream",
     "text": [
      "/Users/intaemoon/github/survlatent_ode/lib/utils.py:1925: VisibleDeprecationWarning: Creating an ndarray from ragged nested sequences (which is a list-or-tuple of lists-or-tuples-or ndarrays with different lengths or shapes) is deprecated. If you meant to do this, you must specify 'dtype=object' when creating the ndarray.\n",
      "  cs_cif_total.append(np.asarray(cs_cif_local))\n",
      "/Users/intaemoon/github/survlatent_ode/lib/utils.py:1926: VisibleDeprecationWarning: Creating an ndarray from ragged nested sequences (which is a list-or-tuple of lists-or-tuples-or ndarrays with different lengths or shapes) is deprecated. If you meant to do this, you must specify 'dtype=object' when creating the ndarray.\n",
      "  return np.asarray(ef_surv_prob), cs_cif_total\n"
     ]
    },
    {
     "name": "stdout",
     "output_type": "stream",
     "text": [
      "Performance at quantiles : \n",
      "BS(t) at the percentiles :  {0.25: 0.0544, 0.375: 0.0812, 0.5: 0.1043, 0.625: 0.1292, 0.75: 0.1492}\n",
      "AUC(t) at the percentiles :  {0.25: 0.4976, 0.375: 0.5412, 0.5: 0.4937, 0.625: 0.4882, 0.75: 0.4897}\n",
      "mean AUC(t) over 25-75 percentile :  0.502\n",
      "Integrated BS(t) over 25-75 percentile :  0.0987\n",
      "----------------------------------------------------\n",
      "outcome :  2\n",
      "remaining time-to-event in validation/test set [25%, 37.5%, 50%, 62.5%, 75%] percentiles :  [ 95 152 201 247 323]\n",
      "Performance at quantiles : \n",
      "BS(t) at the percentiles :  {0.25: 0.041, 0.375: 0.0599, 0.5: 0.0797, 0.625: 0.0991, 0.75: 0.1146}\n",
      "AUC(t) at the percentiles :  {0.25: 0.4682, 0.375: 0.3996, 0.5: 0.4268, 0.625: 0.4508, 0.75: 0.4792}\n",
      "mean AUC(t) over 25-75 percentile :  0.4477\n",
      "Integrated BS(t) over 25-75 percentile :  0.0825\n",
      "Event :  1 , Plotting 10 random survival curves...\n",
      "Event :  2 , Plotting 10 random survival curves...\n",
      "====================================================\n",
      "\n",
      "\n",
      "Best iteration so far wrt. mean AUC :  8\n",
      "Storing the latest model...\n",
      "model_performance/framingham_competing_events_example_v1_1/latest_model.pt\n"
     ]
    },
    {
     "name": "stderr",
     "output_type": "stream",
     "text": [
      "\r",
      "Training across 30 epochs:   3%|▎         | 28/840 [01:34<1:00:08,  4.44s/it]"
     ]
    },
    {
     "name": "stdout",
     "output_type": "stream",
     "text": [
      "\n",
      "\n"
     ]
    },
    {
     "name": "stderr",
     "output_type": "stream",
     "text": [
      "Training across 30 epochs:   7%|▋         | 55/840 [03:00<42:08,  3.22s/it]  "
     ]
    },
    {
     "name": "stdout",
     "output_type": "stream",
     "text": [
      "Epoch :  2\n"
     ]
    },
    {
     "name": "stderr",
     "output_type": "stream",
     "text": [
      "\n",
      "Loading validation set...:   0%|          | 0/4 [00:00<?, ?it/s]\u001b[A\n",
      "Loading validation set...:  25%|██▌       | 1/4 [00:00<00:01,  1.82it/s]\u001b[A\n",
      "Loading validation set...:  50%|█████     | 2/4 [00:01<00:01,  1.90it/s]\u001b[A\n",
      "Loading validation set...:  75%|███████▌  | 3/4 [00:01<00:00,  1.97it/s]\u001b[A\n",
      "Loading validation set...: 100%|██████████| 4/4 [00:01<00:00,  2.23it/s]\u001b[A\n"
     ]
    },
    {
     "name": "stdout",
     "output_type": "stream",
     "text": [
      "\n",
      "\n",
      "============ Validation set performance ============\n",
      "survival log-likelihood :  -2361.4944\n",
      "reconstr. likelihood :  0.8455\n",
      "----------------------------------------------------\n",
      "outcome :  1\n",
      "remaining time-to-event in validation/test set [25%, 37.5%, 50%, 62.5%, 75%] percentiles :  [ 60 108 146 185 219]\n"
     ]
    },
    {
     "name": "stderr",
     "output_type": "stream",
     "text": [
      "/Users/intaemoon/github/survlatent_ode/lib/utils.py:1925: VisibleDeprecationWarning: Creating an ndarray from ragged nested sequences (which is a list-or-tuple of lists-or-tuples-or ndarrays with different lengths or shapes) is deprecated. If you meant to do this, you must specify 'dtype=object' when creating the ndarray.\n",
      "  cs_cif_total.append(np.asarray(cs_cif_local))\n",
      "/Users/intaemoon/github/survlatent_ode/lib/utils.py:1926: VisibleDeprecationWarning: Creating an ndarray from ragged nested sequences (which is a list-or-tuple of lists-or-tuples-or ndarrays with different lengths or shapes) is deprecated. If you meant to do this, you must specify 'dtype=object' when creating the ndarray.\n",
      "  return np.asarray(ef_surv_prob), cs_cif_total\n"
     ]
    },
    {
     "name": "stdout",
     "output_type": "stream",
     "text": [
      "Performance at quantiles : \n",
      "BS(t) at the percentiles :  {0.25: 0.0532, 0.375: 0.0784, 0.5: 0.0995, 0.625: 0.1216, 0.75: 0.1387}\n",
      "AUC(t) at the percentiles :  {0.25: 0.5945, 0.375: 0.6209, 0.5: 0.6134, 0.625: 0.6127, 0.75: 0.6014}\n",
      "mean AUC(t) over 25-75 percentile :  0.6058\n",
      "Integrated BS(t) over 25-75 percentile :  0.094\n",
      "----------------------------------------------------\n",
      "outcome :  2\n",
      "remaining time-to-event in validation/test set [25%, 37.5%, 50%, 62.5%, 75%] percentiles :  [ 95 152 201 247 323]\n",
      "Performance at quantiles : \n",
      "BS(t) at the percentiles :  {0.25: 0.0405, 0.375: 0.0587, 0.5: 0.0763, 0.625: 0.0927, 0.75: 0.1062}\n",
      "AUC(t) at the percentiles :  {0.25: 0.6242, 0.375: 0.5871, 0.5: 0.582, 0.625: 0.5786, 0.75: 0.6027}\n",
      "mean AUC(t) over 25-75 percentile :  0.5981\n",
      "Integrated BS(t) over 25-75 percentile :  0.0782\n",
      "Event :  1 , Plotting 10 random survival curves...\n",
      "Event :  2 , Plotting 10 random survival curves...\n",
      "====================================================\n",
      "\n",
      "\n",
      "Best iteration so far wrt. mean AUC :  8\n",
      "Storing the latest model...\n",
      "model_performance/framingham_competing_events_example_v1_1/latest_model.pt\n"
     ]
    },
    {
     "name": "stderr",
     "output_type": "stream",
     "text": [
      "\r",
      "Training across 30 epochs:   7%|▋         | 56/840 [03:07<56:14,  4.30s/it]"
     ]
    },
    {
     "name": "stdout",
     "output_type": "stream",
     "text": [
      "\n",
      "\n"
     ]
    },
    {
     "name": "stderr",
     "output_type": "stream",
     "text": [
      "Training across 30 epochs:  10%|▉         | 83/840 [04:35<40:17,  3.19s/it]"
     ]
    },
    {
     "name": "stdout",
     "output_type": "stream",
     "text": [
      "Epoch :  3\n"
     ]
    },
    {
     "name": "stderr",
     "output_type": "stream",
     "text": [
      "\n",
      "Loading validation set...:   0%|          | 0/4 [00:00<?, ?it/s]\u001b[A\n",
      "Loading validation set...:  25%|██▌       | 1/4 [00:00<00:01,  2.02it/s]\u001b[A\n",
      "Loading validation set...:  50%|█████     | 2/4 [00:00<00:00,  2.02it/s]\u001b[A\n",
      "Loading validation set...:  75%|███████▌  | 3/4 [00:01<00:00,  2.02it/s]\u001b[A\n",
      "Loading validation set...: 100%|██████████| 4/4 [00:01<00:00,  2.30it/s]\u001b[A\n"
     ]
    },
    {
     "name": "stdout",
     "output_type": "stream",
     "text": [
      "\n",
      "\n",
      "============ Validation set performance ============\n",
      "survival log-likelihood :  -2342.0403\n",
      "reconstr. likelihood :  0.8455\n",
      "----------------------------------------------------\n",
      "outcome :  1\n",
      "remaining time-to-event in validation/test set [25%, 37.5%, 50%, 62.5%, 75%] percentiles :  [ 60 108 146 185 219]\n"
     ]
    },
    {
     "name": "stderr",
     "output_type": "stream",
     "text": [
      "/Users/intaemoon/github/survlatent_ode/lib/utils.py:1925: VisibleDeprecationWarning: Creating an ndarray from ragged nested sequences (which is a list-or-tuple of lists-or-tuples-or ndarrays with different lengths or shapes) is deprecated. If you meant to do this, you must specify 'dtype=object' when creating the ndarray.\n",
      "  cs_cif_total.append(np.asarray(cs_cif_local))\n",
      "/Users/intaemoon/github/survlatent_ode/lib/utils.py:1926: VisibleDeprecationWarning: Creating an ndarray from ragged nested sequences (which is a list-or-tuple of lists-or-tuples-or ndarrays with different lengths or shapes) is deprecated. If you meant to do this, you must specify 'dtype=object' when creating the ndarray.\n",
      "  return np.asarray(ef_surv_prob), cs_cif_total\n"
     ]
    },
    {
     "name": "stdout",
     "output_type": "stream",
     "text": [
      "Performance at quantiles : \n",
      "BS(t) at the percentiles :  {0.25: 0.0523, 0.375: 0.076, 0.5: 0.0953, 0.625: 0.1141, 0.75: 0.1282}\n",
      "AUC(t) at the percentiles :  {0.25: 0.6027, 0.375: 0.6424, 0.5: 0.6654, 0.625: 0.6957, 0.75: 0.7136}\n",
      "mean AUC(t) over 25-75 percentile :  0.6464\n",
      "Integrated BS(t) over 25-75 percentile :  0.0897\n",
      "----------------------------------------------------\n",
      "outcome :  2\n",
      "remaining time-to-event in validation/test set [25%, 37.5%, 50%, 62.5%, 75%] percentiles :  [ 95 152 201 247 323]\n",
      "Performance at quantiles : \n",
      "BS(t) at the percentiles :  {0.25: 0.0408, 0.375: 0.0586, 0.5: 0.0751, 0.625: 0.0899, 0.75: 0.1021}\n",
      "AUC(t) at the percentiles :  {0.25: 0.5782, 0.375: 0.5848, 0.5: 0.6055, 0.625: 0.628, 0.75: 0.6479}\n",
      "mean AUC(t) over 25-75 percentile :  0.5997\n",
      "Integrated BS(t) over 25-75 percentile :  0.0764\n",
      "Event :  1 , Plotting 10 random survival curves...\n",
      "Event :  2 , Plotting 10 random survival curves...\n",
      "====================================================\n",
      "\n",
      "\n",
      "Best iteration so far wrt. mean AUC :  8\n",
      "Storing the latest model...\n",
      "model_performance/framingham_competing_events_example_v1_1/latest_model.pt\n"
     ]
    },
    {
     "name": "stderr",
     "output_type": "stream",
     "text": [
      "\r",
      "Training across 30 epochs:  10%|█         | 84/840 [04:42<52:41,  4.18s/it]"
     ]
    },
    {
     "name": "stdout",
     "output_type": "stream",
     "text": [
      "\n",
      "\n"
     ]
    },
    {
     "name": "stderr",
     "output_type": "stream",
     "text": [
      "Training across 30 epochs:  13%|█▎        | 111/840 [06:08<39:20,  3.24s/it]"
     ]
    },
    {
     "name": "stdout",
     "output_type": "stream",
     "text": [
      "Epoch :  4\n"
     ]
    },
    {
     "name": "stderr",
     "output_type": "stream",
     "text": [
      "\n",
      "Loading validation set...:   0%|          | 0/4 [00:00<?, ?it/s]\u001b[A\n",
      "Loading validation set...:  25%|██▌       | 1/4 [00:00<00:01,  1.98it/s]\u001b[A\n",
      "Loading validation set...:  50%|█████     | 2/4 [00:00<00:00,  2.04it/s]\u001b[A\n",
      "Loading validation set...:  75%|███████▌  | 3/4 [00:01<00:00,  2.01it/s]\u001b[A\n",
      "Loading validation set...: 100%|██████████| 4/4 [00:01<00:00,  2.31it/s]\u001b[A\n"
     ]
    },
    {
     "name": "stdout",
     "output_type": "stream",
     "text": [
      "\n",
      "\n",
      "============ Validation set performance ============\n",
      "survival log-likelihood :  -2338.9626\n",
      "reconstr. likelihood :  0.8455\n",
      "----------------------------------------------------\n",
      "outcome :  1\n",
      "remaining time-to-event in validation/test set [25%, 37.5%, 50%, 62.5%, 75%] percentiles :  [ 60 108 146 185 219]\n"
     ]
    },
    {
     "name": "stderr",
     "output_type": "stream",
     "text": [
      "/Users/intaemoon/github/survlatent_ode/lib/utils.py:1925: VisibleDeprecationWarning: Creating an ndarray from ragged nested sequences (which is a list-or-tuple of lists-or-tuples-or ndarrays with different lengths or shapes) is deprecated. If you meant to do this, you must specify 'dtype=object' when creating the ndarray.\n",
      "  cs_cif_total.append(np.asarray(cs_cif_local))\n",
      "/Users/intaemoon/github/survlatent_ode/lib/utils.py:1926: VisibleDeprecationWarning: Creating an ndarray from ragged nested sequences (which is a list-or-tuple of lists-or-tuples-or ndarrays with different lengths or shapes) is deprecated. If you meant to do this, you must specify 'dtype=object' when creating the ndarray.\n",
      "  return np.asarray(ef_surv_prob), cs_cif_total\n"
     ]
    },
    {
     "name": "stdout",
     "output_type": "stream",
     "text": [
      "Performance at quantiles : \n",
      "BS(t) at the percentiles :  {0.25: 0.0522, 0.375: 0.0756, 0.5: 0.0938, 0.625: 0.1093, 0.75: 0.1198}\n",
      "AUC(t) at the percentiles :  {0.25: 0.6082, 0.375: 0.6487, 0.5: 0.6517, 0.625: 0.6809, 0.75: 0.7048}\n",
      "mean AUC(t) over 25-75 percentile :  0.6451\n",
      "Integrated BS(t) over 25-75 percentile :  0.0875\n",
      "----------------------------------------------------\n",
      "outcome :  2\n",
      "remaining time-to-event in validation/test set [25%, 37.5%, 50%, 62.5%, 75%] percentiles :  [ 95 152 201 247 323]\n",
      "Performance at quantiles : \n",
      "BS(t) at the percentiles :  {0.25: 0.0416, 0.375: 0.0589, 0.5: 0.0738, 0.625: 0.0865, 0.75: 0.0968}\n",
      "AUC(t) at the percentiles :  {0.25: 0.5571, 0.375: 0.5866, 0.5: 0.5979, 0.625: 0.6387, 0.75: 0.6575}\n",
      "mean AUC(t) over 25-75 percentile :  0.5943\n",
      "Integrated BS(t) over 25-75 percentile :  0.0744\n",
      "Event :  1 , Plotting 10 random survival curves...\n",
      "Event :  2 , Plotting 10 random survival curves...\n",
      "====================================================\n",
      "\n",
      "\n",
      "Best iteration so far wrt. mean AUC :  8\n",
      "Storing the latest model...\n",
      "model_performance/framingham_competing_events_example_v1_1/latest_model.pt\n"
     ]
    },
    {
     "name": "stderr",
     "output_type": "stream",
     "text": [
      "\r",
      "Training across 30 epochs:  13%|█▎        | 112/840 [06:15<51:33,  4.25s/it]"
     ]
    },
    {
     "name": "stdout",
     "output_type": "stream",
     "text": [
      "\n",
      "\n"
     ]
    },
    {
     "name": "stderr",
     "output_type": "stream",
     "text": [
      "Training across 30 epochs:  17%|█▋        | 139/840 [07:41<37:23,  3.20s/it]"
     ]
    },
    {
     "name": "stdout",
     "output_type": "stream",
     "text": [
      "Epoch :  5\n"
     ]
    },
    {
     "name": "stderr",
     "output_type": "stream",
     "text": [
      "\n",
      "Loading validation set...:   0%|          | 0/4 [00:00<?, ?it/s]\u001b[A\n",
      "Loading validation set...:  25%|██▌       | 1/4 [00:00<00:01,  1.79it/s]\u001b[A\n",
      "Loading validation set...:  50%|█████     | 2/4 [00:01<00:01,  1.98it/s]\u001b[A\n",
      "Loading validation set...:  75%|███████▌  | 3/4 [00:01<00:00,  2.04it/s]\u001b[A\n",
      "Loading validation set...: 100%|██████████| 4/4 [00:01<00:00,  2.30it/s]\u001b[A\n"
     ]
    },
    {
     "name": "stdout",
     "output_type": "stream",
     "text": [
      "\n",
      "\n",
      "============ Validation set performance ============\n",
      "survival log-likelihood :  -2326.2202\n",
      "reconstr. likelihood :  0.8455\n",
      "----------------------------------------------------\n",
      "outcome :  1\n",
      "remaining time-to-event in validation/test set [25%, 37.5%, 50%, 62.5%, 75%] percentiles :  [ 60 108 146 185 219]\n"
     ]
    },
    {
     "name": "stderr",
     "output_type": "stream",
     "text": [
      "/Users/intaemoon/github/survlatent_ode/lib/utils.py:1925: VisibleDeprecationWarning: Creating an ndarray from ragged nested sequences (which is a list-or-tuple of lists-or-tuples-or ndarrays with different lengths or shapes) is deprecated. If you meant to do this, you must specify 'dtype=object' when creating the ndarray.\n",
      "  cs_cif_total.append(np.asarray(cs_cif_local))\n",
      "/Users/intaemoon/github/survlatent_ode/lib/utils.py:1926: VisibleDeprecationWarning: Creating an ndarray from ragged nested sequences (which is a list-or-tuple of lists-or-tuples-or ndarrays with different lengths or shapes) is deprecated. If you meant to do this, you must specify 'dtype=object' when creating the ndarray.\n",
      "  return np.asarray(ef_surv_prob), cs_cif_total\n"
     ]
    },
    {
     "name": "stdout",
     "output_type": "stream",
     "text": [
      "Performance at quantiles : \n",
      "BS(t) at the percentiles :  {0.25: 0.0519, 0.375: 0.0752, 0.5: 0.093, 0.625: 0.1093, 0.75: 0.1219}\n",
      "AUC(t) at the percentiles :  {0.25: 0.6381, 0.375: 0.6635, 0.5: 0.6743, 0.625: 0.7001, 0.75: 0.7118}\n",
      "mean AUC(t) over 25-75 percentile :  0.6672\n",
      "Integrated BS(t) over 25-75 percentile :  0.0872\n",
      "----------------------------------------------------\n",
      "outcome :  2\n",
      "remaining time-to-event in validation/test set [25%, 37.5%, 50%, 62.5%, 75%] percentiles :  [ 95 152 201 247 323]\n",
      "Performance at quantiles : \n",
      "BS(t) at the percentiles :  {0.25: 0.0411, 0.375: 0.0577, 0.5: 0.0731, 0.625: 0.0864, 0.75: 0.097}\n",
      "AUC(t) at the percentiles :  {0.25: 0.5498, 0.375: 0.5732, 0.5: 0.5857, 0.625: 0.6334, 0.75: 0.6558}\n",
      "mean AUC(t) over 25-75 percentile :  0.5856\n",
      "Integrated BS(t) over 25-75 percentile :  0.0739\n",
      "Event :  1 , Plotting 10 random survival curves...\n",
      "Event :  2 , Plotting 10 random survival curves...\n",
      "====================================================\n",
      "\n",
      "\n",
      "Best iteration so far wrt. mean AUC :  8\n",
      "Storing the latest model...\n",
      "model_performance/framingham_competing_events_example_v1_1/latest_model.pt\n"
     ]
    },
    {
     "name": "stderr",
     "output_type": "stream",
     "text": [
      "\r",
      "Training across 30 epochs:  17%|█▋        | 140/840 [07:47<49:26,  4.24s/it]"
     ]
    },
    {
     "name": "stdout",
     "output_type": "stream",
     "text": [
      "\n",
      "\n"
     ]
    },
    {
     "name": "stderr",
     "output_type": "stream",
     "text": [
      "Training across 30 epochs:  20%|█▉        | 167/840 [09:15<37:05,  3.31s/it]"
     ]
    },
    {
     "name": "stdout",
     "output_type": "stream",
     "text": [
      "Epoch :  6\n"
     ]
    },
    {
     "name": "stderr",
     "output_type": "stream",
     "text": [
      "\n",
      "Loading validation set...:   0%|          | 0/4 [00:00<?, ?it/s]\u001b[A\n",
      "Loading validation set...:  25%|██▌       | 1/4 [00:00<00:01,  2.01it/s]\u001b[A\n",
      "Loading validation set...:  50%|█████     | 2/4 [00:00<00:00,  2.06it/s]\u001b[A\n",
      "Loading validation set...:  75%|███████▌  | 3/4 [00:01<00:00,  1.94it/s]\u001b[A\n",
      "Loading validation set...: 100%|██████████| 4/4 [00:01<00:00,  2.18it/s]\u001b[A\n"
     ]
    },
    {
     "name": "stdout",
     "output_type": "stream",
     "text": [
      "\n",
      "\n",
      "============ Validation set performance ============\n",
      "survival log-likelihood :  -2324.5017\n",
      "reconstr. likelihood :  0.8453\n",
      "----------------------------------------------------\n",
      "outcome :  1\n",
      "remaining time-to-event in validation/test set [25%, 37.5%, 50%, 62.5%, 75%] percentiles :  [ 60 108 146 185 219]\n",
      "Performance at quantiles : \n",
      "BS(t) at the percentiles :  {0.25: 0.052, 0.375: 0.0753, 0.5: 0.0935, 0.625: 0.1098, 0.75: 0.1212}\n",
      "AUC(t) at the percentiles :  {0.25: 0.6158, 0.375: 0.6516, 0.5: 0.6559, 0.625: 0.6821, 0.75: 0.704}\n",
      "mean AUC(t) over 25-75 percentile :  0.6493\n",
      "Integrated BS(t) over 25-75 percentile :  0.0875\n",
      "----------------------------------------------------\n",
      "outcome :  2\n"
     ]
    },
    {
     "name": "stderr",
     "output_type": "stream",
     "text": [
      "/Users/intaemoon/github/survlatent_ode/lib/utils.py:1925: VisibleDeprecationWarning: Creating an ndarray from ragged nested sequences (which is a list-or-tuple of lists-or-tuples-or ndarrays with different lengths or shapes) is deprecated. If you meant to do this, you must specify 'dtype=object' when creating the ndarray.\n",
      "  cs_cif_total.append(np.asarray(cs_cif_local))\n",
      "/Users/intaemoon/github/survlatent_ode/lib/utils.py:1926: VisibleDeprecationWarning: Creating an ndarray from ragged nested sequences (which is a list-or-tuple of lists-or-tuples-or ndarrays with different lengths or shapes) is deprecated. If you meant to do this, you must specify 'dtype=object' when creating the ndarray.\n",
      "  return np.asarray(ef_surv_prob), cs_cif_total\n"
     ]
    },
    {
     "name": "stdout",
     "output_type": "stream",
     "text": [
      "remaining time-to-event in validation/test set [25%, 37.5%, 50%, 62.5%, 75%] percentiles :  [ 95 152 201 247 323]\n",
      "Performance at quantiles : \n",
      "BS(t) at the percentiles :  {0.25: 0.0407, 0.375: 0.0576, 0.5: 0.0729, 0.625: 0.0858, 0.75: 0.0958}\n",
      "AUC(t) at the percentiles :  {0.25: 0.5921, 0.375: 0.6078, 0.5: 0.615, 0.625: 0.6554, 0.75: 0.6746}\n",
      "mean AUC(t) over 25-75 percentile :  0.6188\n",
      "Integrated BS(t) over 25-75 percentile :  0.0735\n",
      "Event :  1 , Plotting 10 random survival curves...\n",
      "Event :  2 , Plotting 10 random survival curves...\n",
      "====================================================\n",
      "\n",
      "\n"
     ]
    },
    {
     "name": "stderr",
     "output_type": "stream",
     "text": [
      "\r",
      "Training across 30 epochs:  20%|██        | 168/840 [09:22<49:23,  4.41s/it]"
     ]
    },
    {
     "name": "stdout",
     "output_type": "stream",
     "text": [
      "Best iteration so far wrt. mean AUC :  8\n",
      "Storing the latest model...\n",
      "model_performance/framingham_competing_events_example_v1_1/latest_model.pt\n",
      "\n",
      "\n"
     ]
    },
    {
     "name": "stderr",
     "output_type": "stream",
     "text": [
      "Training across 30 epochs:  23%|██▎       | 195/840 [10:58<35:54,  3.34s/it]"
     ]
    },
    {
     "name": "stdout",
     "output_type": "stream",
     "text": [
      "Epoch :  7\n"
     ]
    },
    {
     "name": "stderr",
     "output_type": "stream",
     "text": [
      "\n",
      "Loading validation set...:   0%|          | 0/4 [00:00<?, ?it/s]\u001b[A\n",
      "Loading validation set...:  25%|██▌       | 1/4 [00:00<00:01,  1.91it/s]\u001b[A\n",
      "Loading validation set...:  50%|█████     | 2/4 [00:01<00:01,  1.95it/s]\u001b[A\n",
      "Loading validation set...:  75%|███████▌  | 3/4 [00:01<00:00,  1.89it/s]\u001b[A\n",
      "Loading validation set...: 100%|██████████| 4/4 [00:01<00:00,  2.20it/s]\u001b[A\n"
     ]
    },
    {
     "name": "stdout",
     "output_type": "stream",
     "text": [
      "\n",
      "\n",
      "============ Validation set performance ============\n",
      "survival log-likelihood :  -2324.5627\n",
      "reconstr. likelihood :  0.8453\n",
      "----------------------------------------------------\n",
      "outcome :  1\n",
      "remaining time-to-event in validation/test set [25%, 37.5%, 50%, 62.5%, 75%] percentiles :  [ 60 108 146 185 219]\n"
     ]
    },
    {
     "name": "stderr",
     "output_type": "stream",
     "text": [
      "/Users/intaemoon/github/survlatent_ode/lib/utils.py:1925: VisibleDeprecationWarning: Creating an ndarray from ragged nested sequences (which is a list-or-tuple of lists-or-tuples-or ndarrays with different lengths or shapes) is deprecated. If you meant to do this, you must specify 'dtype=object' when creating the ndarray.\n",
      "  cs_cif_total.append(np.asarray(cs_cif_local))\n",
      "/Users/intaemoon/github/survlatent_ode/lib/utils.py:1926: VisibleDeprecationWarning: Creating an ndarray from ragged nested sequences (which is a list-or-tuple of lists-or-tuples-or ndarrays with different lengths or shapes) is deprecated. If you meant to do this, you must specify 'dtype=object' when creating the ndarray.\n",
      "  return np.asarray(ef_surv_prob), cs_cif_total\n"
     ]
    },
    {
     "name": "stdout",
     "output_type": "stream",
     "text": [
      "Performance at quantiles : \n",
      "BS(t) at the percentiles :  {0.25: 0.0521, 0.375: 0.0752, 0.5: 0.0934, 0.625: 0.1097, 0.75: 0.1208}\n",
      "AUC(t) at the percentiles :  {0.25: 0.6217, 0.375: 0.6522, 0.5: 0.6628, 0.625: 0.6845, 0.75: 0.7051}\n",
      "mean AUC(t) over 25-75 percentile :  0.6531\n",
      "Integrated BS(t) over 25-75 percentile :  0.0874\n",
      "----------------------------------------------------\n",
      "outcome :  2\n",
      "remaining time-to-event in validation/test set [25%, 37.5%, 50%, 62.5%, 75%] percentiles :  [ 95 152 201 247 323]\n",
      "Performance at quantiles : \n",
      "BS(t) at the percentiles :  {0.25: 0.0408, 0.375: 0.0577, 0.5: 0.0729, 0.625: 0.0857, 0.75: 0.0956}\n",
      "AUC(t) at the percentiles :  {0.25: 0.5961, 0.375: 0.6096, 0.5: 0.6183, 0.625: 0.66, 0.75: 0.6798}\n",
      "mean AUC(t) over 25-75 percentile :  0.6218\n",
      "Integrated BS(t) over 25-75 percentile :  0.0735\n",
      "Event :  1 , Plotting 10 random survival curves...\n",
      "Event :  2 , Plotting 10 random survival curves...\n",
      "====================================================\n",
      "\n",
      "\n",
      "Best iteration so far wrt. mean AUC :  8\n",
      "Storing the latest model...\n",
      "model_performance/framingham_competing_events_example_v1_1/latest_model.pt\n",
      "\n",
      "\n"
     ]
    },
    {
     "name": "stderr",
     "output_type": "stream",
     "text": [
      "Training across 30 epochs:  27%|██▋       | 223/840 [12:34<33:13,  3.23s/it]"
     ]
    },
    {
     "name": "stdout",
     "output_type": "stream",
     "text": [
      "Epoch :  8\n"
     ]
    },
    {
     "name": "stderr",
     "output_type": "stream",
     "text": [
      "\n",
      "Loading validation set...:   0%|          | 0/4 [00:00<?, ?it/s]\u001b[A\n",
      "Loading validation set...:  25%|██▌       | 1/4 [00:00<00:01,  2.01it/s]\u001b[A\n",
      "Loading validation set...:  50%|█████     | 2/4 [00:00<00:00,  2.05it/s]\u001b[A\n",
      "Loading validation set...:  75%|███████▌  | 3/4 [00:01<00:00,  2.02it/s]\u001b[A\n",
      "Loading validation set...: 100%|██████████| 4/4 [00:01<00:00,  2.33it/s]\u001b[A\n"
     ]
    },
    {
     "name": "stdout",
     "output_type": "stream",
     "text": [
      "\n",
      "\n",
      "============ Validation set performance ============\n",
      "survival log-likelihood :  -2321.2737\n",
      "reconstr. likelihood :  0.8453\n",
      "----------------------------------------------------\n",
      "outcome :  1\n",
      "remaining time-to-event in validation/test set [25%, 37.5%, 50%, 62.5%, 75%] percentiles :  [ 60 108 146 185 219]\n"
     ]
    },
    {
     "name": "stderr",
     "output_type": "stream",
     "text": [
      "/Users/intaemoon/github/survlatent_ode/lib/utils.py:1925: VisibleDeprecationWarning: Creating an ndarray from ragged nested sequences (which is a list-or-tuple of lists-or-tuples-or ndarrays with different lengths or shapes) is deprecated. If you meant to do this, you must specify 'dtype=object' when creating the ndarray.\n",
      "  cs_cif_total.append(np.asarray(cs_cif_local))\n",
      "/Users/intaemoon/github/survlatent_ode/lib/utils.py:1926: VisibleDeprecationWarning: Creating an ndarray from ragged nested sequences (which is a list-or-tuple of lists-or-tuples-or ndarrays with different lengths or shapes) is deprecated. If you meant to do this, you must specify 'dtype=object' when creating the ndarray.\n",
      "  return np.asarray(ef_surv_prob), cs_cif_total\n"
     ]
    },
    {
     "name": "stdout",
     "output_type": "stream",
     "text": [
      "Performance at quantiles : \n",
      "BS(t) at the percentiles :  {0.25: 0.052, 0.375: 0.075, 0.5: 0.0931, 0.625: 0.1095, 0.75: 0.1206}\n",
      "AUC(t) at the percentiles :  {0.25: 0.6255, 0.375: 0.661, 0.5: 0.6728, 0.625: 0.6979, 0.75: 0.7161}\n",
      "mean AUC(t) over 25-75 percentile :  0.6611\n",
      "Integrated BS(t) over 25-75 percentile :  0.0871\n",
      "----------------------------------------------------\n",
      "outcome :  2\n",
      "remaining time-to-event in validation/test set [25%, 37.5%, 50%, 62.5%, 75%] percentiles :  [ 95 152 201 247 323]\n",
      "Performance at quantiles : \n",
      "BS(t) at the percentiles :  {0.25: 0.0408, 0.375: 0.0576, 0.5: 0.0728, 0.625: 0.0857, 0.75: 0.0958}\n",
      "AUC(t) at the percentiles :  {0.25: 0.6037, 0.375: 0.6147, 0.5: 0.6274, 0.625: 0.6677, 0.75: 0.681}\n",
      "mean AUC(t) over 25-75 percentile :  0.6287\n",
      "Integrated BS(t) over 25-75 percentile :  0.0735\n",
      "Event :  1 , Plotting 10 random survival curves...\n",
      "Event :  2 , Plotting 10 random survival curves...\n",
      "====================================================\n",
      "\n",
      "\n",
      "Best iteration so far wrt. mean AUC :  8\n",
      "Storing the latest model...\n",
      "model_performance/framingham_competing_events_example_v1_1/latest_model.pt\n"
     ]
    },
    {
     "name": "stderr",
     "output_type": "stream",
     "text": [
      "\r",
      "Training across 30 epochs:  27%|██▋       | 224/840 [12:41<44:31,  4.34s/it]"
     ]
    },
    {
     "name": "stdout",
     "output_type": "stream",
     "text": [
      "\n",
      "\n",
      "Storing the best model...\n"
     ]
    },
    {
     "name": "stderr",
     "output_type": "stream",
     "text": [
      "Training across 30 epochs:  30%|██▉       | 251/840 [14:08<33:03,  3.37s/it]"
     ]
    },
    {
     "name": "stdout",
     "output_type": "stream",
     "text": [
      "Epoch :  9\n"
     ]
    },
    {
     "name": "stderr",
     "output_type": "stream",
     "text": [
      "\n",
      "Loading validation set...:   0%|          | 0/4 [00:00<?, ?it/s]\u001b[A\n",
      "Loading validation set...:  25%|██▌       | 1/4 [00:00<00:01,  2.06it/s]\u001b[A\n",
      "Loading validation set...:  50%|█████     | 2/4 [00:00<00:00,  2.12it/s]\u001b[A\n",
      "Loading validation set...:  75%|███████▌  | 3/4 [00:01<00:00,  2.07it/s]\u001b[A\n",
      "Loading validation set...: 100%|██████████| 4/4 [00:01<00:00,  2.36it/s]\u001b[A\n"
     ]
    },
    {
     "name": "stdout",
     "output_type": "stream",
     "text": [
      "\n",
      "\n",
      "============ Validation set performance ============\n",
      "survival log-likelihood :  -2323.9417\n",
      "reconstr. likelihood :  0.8453\n",
      "----------------------------------------------------\n",
      "outcome :  1\n",
      "remaining time-to-event in validation/test set [25%, 37.5%, 50%, 62.5%, 75%] percentiles :  [ 60 108 146 185 219]\n"
     ]
    },
    {
     "name": "stderr",
     "output_type": "stream",
     "text": [
      "/Users/intaemoon/github/survlatent_ode/lib/utils.py:1925: VisibleDeprecationWarning: Creating an ndarray from ragged nested sequences (which is a list-or-tuple of lists-or-tuples-or ndarrays with different lengths or shapes) is deprecated. If you meant to do this, you must specify 'dtype=object' when creating the ndarray.\n",
      "  cs_cif_total.append(np.asarray(cs_cif_local))\n",
      "/Users/intaemoon/github/survlatent_ode/lib/utils.py:1926: VisibleDeprecationWarning: Creating an ndarray from ragged nested sequences (which is a list-or-tuple of lists-or-tuples-or ndarrays with different lengths or shapes) is deprecated. If you meant to do this, you must specify 'dtype=object' when creating the ndarray.\n",
      "  return np.asarray(ef_surv_prob), cs_cif_total\n"
     ]
    },
    {
     "name": "stdout",
     "output_type": "stream",
     "text": [
      "Performance at quantiles : \n",
      "BS(t) at the percentiles :  {0.25: 0.0521, 0.375: 0.0752, 0.5: 0.0932, 0.625: 0.1094, 0.75: 0.1204}\n",
      "AUC(t) at the percentiles :  {0.25: 0.6384, 0.375: 0.6703, 0.5: 0.674, 0.625: 0.6915, 0.75: 0.7132}\n",
      "mean AUC(t) over 25-75 percentile :  0.6667\n",
      "Integrated BS(t) over 25-75 percentile :  0.0872\n",
      "----------------------------------------------------\n",
      "outcome :  2\n",
      "remaining time-to-event in validation/test set [25%, 37.5%, 50%, 62.5%, 75%] percentiles :  [ 95 152 201 247 323]\n",
      "Performance at quantiles : \n",
      "BS(t) at the percentiles :  {0.25: 0.041, 0.375: 0.0578, 0.5: 0.0728, 0.625: 0.0852, 0.75: 0.0951}\n",
      "AUC(t) at the percentiles :  {0.25: 0.6119, 0.375: 0.633, 0.5: 0.6436, 0.625: 0.6834, 0.75: 0.7007}\n",
      "mean AUC(t) over 25-75 percentile :  0.6419\n",
      "Integrated BS(t) over 25-75 percentile :  0.0733\n",
      "Event :  1 , Plotting 10 random survival curves...\n",
      "Event :  2 , Plotting 10 random survival curves...\n",
      "====================================================\n",
      "\n",
      "\n",
      "Best iteration so far wrt. mean AUC :  8\n",
      "Storing the latest model...\n",
      "model_performance/framingham_competing_events_example_v1_1/latest_model.pt\n"
     ]
    },
    {
     "name": "stderr",
     "output_type": "stream",
     "text": [
      "\r",
      "Training across 30 epochs:  30%|███       | 252/840 [14:14<42:01,  4.29s/it]"
     ]
    },
    {
     "name": "stdout",
     "output_type": "stream",
     "text": [
      "\n",
      "\n"
     ]
    },
    {
     "name": "stderr",
     "output_type": "stream",
     "text": [
      "Training across 30 epochs:  32%|███▏      | 267/840 [15:11<43:35,  4.56s/it]"
     ]
    }
   ],
   "source": [
    "# train model\n",
    "# note that samples with event times of zero (i.e. t_i = 0; event time overlapping the latest observation times) are excluded.\n",
    "model.fit(data_train, data_valid, data_info_dic,\n",
    "          max_pred_window=max_pred_window, run_id=run_id, n_epochs=n_epochs,\n",
    "          batch_size=batch_size, surv_loss_scale=surv_loss_scale, early_stopping=early_stopping,\n",
    "          feat_reconstr=feat_reconstr, wait_until_full_surv_loss=wait_until_full_surv_loss, random_seed=random_seed)"
   ]
  },
  {
   "cell_type": "code",
   "execution_count": null,
   "metadata": {},
   "outputs": [],
   "source": [
    "# load the trained model\n",
    "print('Loading the trained model...')\n",
    "print('run_id : ', run_id)\n",
    "path = 'model_performance/' + run_id + '/best_model.pt'\n",
    "try:\n",
    "    model_info = get_ckpt_model(path, model, DEVICE)\n",
    "except:\n",
    "    raise KeyError('Model not found...')\n",
    "\n",
    "# Process the held-out test set \n",
    "batch_dict_test = model.process_eval_data(data_test, data_info_dic, max_pred_window=max_pred_window,\n",
    "                                          run_id=run_id, feat_reconstr=feat_reconstr, model_info=model_info)\n",
    "# Get estimated survival probabilities\n",
    "# Note : survival probs are estimated from the latest observation for each sample\n",
    "# due to generative nature, surv probs may be different across runs. In this example, we set the random seed to control non-deterministic elements\n",
    "ef_surv_prob, cs_cif_total = model.get_surv_prob(batch_dict_test, model_info=model_info,\n",
    "                                                 max_pred_window=max_pred_window, filename_suffix=run_id,\n",
    "                                                 device=DEVICE, n_events=n_events)\n",
    "# Evaluate the model on the held-out set and obtain model performance summary\n",
    "df_test_result_comp = eval_model(model_info, batch_dict_test, ef_surv_prob, run_id=run_id,\n",
    "                                 cs_cif_total=cs_cif_total, max_pred_window=max_pred_window, n_events=n_events)"
   ]
  },
  {
   "cell_type": "code",
   "execution_count": 6,
   "metadata": {},
   "outputs": [
    {
     "data": {
      "text/html": [
       "<div>\n",
       "<style scoped>\n",
       "    .dataframe tbody tr th:only-of-type {\n",
       "        vertical-align: middle;\n",
       "    }\n",
       "\n",
       "    .dataframe tbody tr th {\n",
       "        vertical-align: top;\n",
       "    }\n",
       "\n",
       "    .dataframe thead th {\n",
       "        text-align: right;\n",
       "    }\n",
       "</style>\n",
       "<table border=\"1\" class=\"dataframe\">\n",
       "  <thead>\n",
       "    <tr style=\"text-align: right;\">\n",
       "      <th></th>\n",
       "      <th>param_set</th>\n",
       "      <th>best_epoch</th>\n",
       "      <th>ibs_event_1</th>\n",
       "      <th>ibs_event_2</th>\n",
       "      <th>mean_auc_event_1</th>\n",
       "      <th>mean_auc_event_2</th>\n",
       "      <th>bs 25 percentile_event_1</th>\n",
       "      <th>bs 25 percentile_event_2</th>\n",
       "      <th>bs 25 percentile se_event_1</th>\n",
       "      <th>bs 25 percentile se_event_2</th>\n",
       "      <th>...</th>\n",
       "      <th>auc 25 percentile se_event_1</th>\n",
       "      <th>auc 25 percentile se_event_2</th>\n",
       "      <th>auc 50 percentile_event_1</th>\n",
       "      <th>auc 50 percentile_event_2</th>\n",
       "      <th>auc 50 percentile se_event_1</th>\n",
       "      <th>auc 50 percentile se_event_2</th>\n",
       "      <th>auc 75 percentile_event_1</th>\n",
       "      <th>auc 75 percentile_event_2</th>\n",
       "      <th>auc 75 percentile se_event_1</th>\n",
       "      <th>auc 75 percentile se_event_2</th>\n",
       "    </tr>\n",
       "    <tr>\n",
       "      <th>result</th>\n",
       "      <th></th>\n",
       "      <th></th>\n",
       "      <th></th>\n",
       "      <th></th>\n",
       "      <th></th>\n",
       "      <th></th>\n",
       "      <th></th>\n",
       "      <th></th>\n",
       "      <th></th>\n",
       "      <th></th>\n",
       "      <th></th>\n",
       "      <th></th>\n",
       "      <th></th>\n",
       "      <th></th>\n",
       "      <th></th>\n",
       "      <th></th>\n",
       "      <th></th>\n",
       "      <th></th>\n",
       "      <th></th>\n",
       "      <th></th>\n",
       "      <th></th>\n",
       "    </tr>\n",
       "  </thead>\n",
       "  <tbody>\n",
       "    <tr>\n",
       "      <th>0</th>\n",
       "      <td>NaN</td>\n",
       "      <td>8</td>\n",
       "      <td>0.0936</td>\n",
       "      <td>0.07</td>\n",
       "      <td>0.6456</td>\n",
       "      <td>0.7168</td>\n",
       "      <td>0.052</td>\n",
       "      <td>0.0406</td>\n",
       "      <td>0.0062</td>\n",
       "      <td>0.0055</td>\n",
       "      <td>...</td>\n",
       "      <td>0.0473</td>\n",
       "      <td>0.042</td>\n",
       "      <td>0.6373</td>\n",
       "      <td>0.7122</td>\n",
       "      <td>0.0329</td>\n",
       "      <td>0.0344</td>\n",
       "      <td>0.7092</td>\n",
       "      <td>0.7247</td>\n",
       "      <td>0.0264</td>\n",
       "      <td>0.0297</td>\n",
       "    </tr>\n",
       "  </tbody>\n",
       "</table>\n",
       "<p>1 rows × 30 columns</p>\n",
       "</div>"
      ],
      "text/plain": [
       "       param_set best_epoch ibs_event_1 ibs_event_2 mean_auc_event_1  \\\n",
       "result                                                                 \n",
       "0            NaN          8      0.0936        0.07           0.6456   \n",
       "\n",
       "       mean_auc_event_2 bs 25 percentile_event_1 bs 25 percentile_event_2  \\\n",
       "result                                                                      \n",
       "0                0.7168                    0.052                   0.0406   \n",
       "\n",
       "       bs 25 percentile se_event_1 bs 25 percentile se_event_2  ...  \\\n",
       "result                                                          ...   \n",
       "0                           0.0062                      0.0055  ...   \n",
       "\n",
       "       auc 25 percentile se_event_1 auc 25 percentile se_event_2  \\\n",
       "result                                                             \n",
       "0                            0.0473                        0.042   \n",
       "\n",
       "       auc 50 percentile_event_1 auc 50 percentile_event_2  \\\n",
       "result                                                       \n",
       "0                         0.6373                    0.7122   \n",
       "\n",
       "       auc 50 percentile se_event_1 auc 50 percentile se_event_2  \\\n",
       "result                                                             \n",
       "0                            0.0329                       0.0344   \n",
       "\n",
       "       auc 75 percentile_event_1 auc 75 percentile_event_2  \\\n",
       "result                                                       \n",
       "0                         0.7092                    0.7247   \n",
       "\n",
       "       auc 75 percentile se_event_1 auc 75 percentile se_event_2  \n",
       "result                                                            \n",
       "0                            0.0264                       0.0297  \n",
       "\n",
       "[1 rows x 30 columns]"
      ]
     },
     "execution_count": 6,
     "metadata": {},
     "output_type": "execute_result"
    }
   ],
   "source": [
    "df_test_result_comp"
   ]
  },
  {
   "cell_type": "markdown",
   "metadata": {},
   "source": [
    "## Plot estimated survival curves"
   ]
  },
  {
   "cell_type": "code",
   "execution_count": 8,
   "metadata": {},
   "outputs": [
    {
     "data": {
      "text/plain": [
       "(2, 847)"
      ]
     },
     "execution_count": 8,
     "metadata": {},
     "output_type": "execute_result"
    }
   ],
   "source": [
    "np.shape(cs_cif_total)"
   ]
  },
  {
   "cell_type": "code",
   "execution_count": 12,
   "metadata": {},
   "outputs": [
    {
     "data": {
      "text/plain": [
       "<matplotlib.legend.Legend at 0x7f82e7820910>"
      ]
     },
     "execution_count": 12,
     "metadata": {},
     "output_type": "execute_result"
    },
    {
     "data": {
      "image/png": "[encoded data removed]",
      "text/plain": [
       "<Figure size 396x396 with 1 Axes>"
      ]
     },
     "metadata": {
      "needs_background": "light"
     },
     "output_type": "display_data"
    }
   ],
   "source": [
    "# Note that our prediction window is from time 0 to time 800 (i.e. 0 - 8000 days). The maximum prediction window can be made longer or shorter using 'max_pred_window'.\n",
    "# Since survival probabilities are estimated from the latest observation of each patient (i.e. the latest observation is time 0 for each patient), \n",
    "# each patient has different last observation time in this case, resulting in a varying time window of estimated survival probabilities \n",
    "# For each patient, we include observed remaining time to event as well as event indicator.\n",
    "\n",
    "sample_ids = batch_dict_test['sample_ids']\n",
    "labels = batch_dict_test['labels']\n",
    "remaining_time_to_event = batch_dict_test['remaining_time_to_event']\n",
    "\n",
    "surv_prob = cs_cif_total[0]\n",
    "fig, axs = plt.subplots(1, 1, figsize=(5.5, 5.5))\n",
    "for idx, surv_prob_ind in enumerate(surv_prob[5:10]):\n",
    "    label = ('Patient ' + str(sample_ids[idx]) + ' (Remaining time to event :' +\n",
    "             str(remaining_time_to_event[idx]) + ', Label : ' + str(labels[idx].numpy()[0]) + ')')\n",
    "    axs.plot(np.arange(300), surv_prob_ind[0:300], label = label)\n",
    "axs.set_title('Estimated survival curves over 3000 days\\nfrom the latest observations')\n",
    "axs.set_ylabel('F_k(t | X) for ANYCHD')\n",
    "axs.set_xlabel('Follow-up time (10-day as a unit time)')\n",
    "axs.legend(bbox_to_anchor=(1,0.5), loc=\"center left\")"
   ]
  },
  {
   "cell_type": "code",
   "execution_count": null,
   "metadata": {},
   "outputs": [],
   "source": []
  }
 ],
 "metadata": {
  "kernelspec": {
   "display_name": "Python 3",
   "language": "python",
   "name": "python3"
  },
  "language_info": {
   "codemirror_mode": {
    "name": "ipython",
    "version": 3
   },
   "file_extension": ".py",
   "mimetype": "text/x-python",
   "name": "python",
   "nbconvert_exporter": "python",
   "pygments_lexer": "ipython3",
   "version": "3.7.4"
  }
 },
 "nbformat": 4,
 "nbformat_minor": 2
}
