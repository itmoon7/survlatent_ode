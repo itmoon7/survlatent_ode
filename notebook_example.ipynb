{
 "cells": [
  {
   "cell_type": "code",
   "execution_count": 1,
   "metadata": {},
   "outputs": [],
   "source": [
    "# import necessary pacakages\n",
    "import pandas as pd\n",
    "import numpy as np\n",
    "from lib.neural_ode_surv import *\n",
    "from lib.utils import *\n",
    "import warnings\n",
    "import matplotlib.pyplot as plt\n",
    "\n",
    "# check for available GPUs\n",
    "DEVICE = torch.device(\"cuda:0\" if torch.cuda.is_available() else \"cpu\")"
   ]
  },
  {
   "cell_type": "markdown",
   "metadata": {},
   "source": [
    "## Time to a single event prediction example : Framingham data\n",
    "### Loading and pre-processing the data"
   ]
  },
  {
   "cell_type": "code",
   "execution_count": 2,
   "metadata": {},
   "outputs": [],
   "source": [
    "# For more details on the dataset and covariates in Framingham data, \n",
    "# see : https://biolincc.nhlbi.nih.gov/media/teachingstudies/FHS_Teaching_Longitudinal_Data_Documentation_2021a.pdf?link_time=2022-02-03_18:20:47.023970\n",
    "# this publicly available data has a person-time format for longitudinal measurements \n",
    "df_framingham = pd.read_csv('data/framingham.csv') \n",
    "\n",
    "# Specify categorical features\n",
    "feat_cat = ['SEX', 'CIGPDAY', 'CURSMOKE','educ', 'DIABETES', 'PREVAP', 'PREVCHD', 'PREVMI', 'PREVSTRK', 'PREVHYP', 'BPMEDS']\n",
    "# Specify continuous features\n",
    "feat_cont = ['AGE', 'SYSBP', 'DIABP', 'TOTCHOL', 'HDLC', 'LDLC', 'BMI', 'GLUCOSE', 'HEARTRTE']\n",
    "# Specify features which SurvLatent ODE is set to reconstruct\n",
    "feat_reconstr = ['SYSBP', 'DIABP', 'TOTCHOL', 'HDLC', 'LDLC', 'BMI', 'GLUCOSE', 'HEARTRTE']\n",
    "# Specify data_info_dic as follows \n",
    "# id_col : unique identifier for a patient\n",
    "# event_col : columns correspond to event indicator; this should be binary\n",
    "# time_col : column corresponds to time of measurement\n",
    "# time_to_event_col : column corresponds to observed time to event (i.e. t_i = min(T_i, C_i))\n",
    "# feat_cat : list containing a set of categorical features\n",
    "# feat_cont : list containing a set of continuous valued features\n",
    "data_info_dic = {'id_col' : 'RANDID', 'event_col' : 'DEATH', 'time_col' : 'TIME', 'time_to_event_col' : 'TIMEDTH', 'feat_cat' : feat_cat, 'feat_cont' : feat_cont}\n",
    "\n",
    "feats_dim = len(feat_cat) + len(feat_cont)\n",
    "reconstr_dim = len(feat_reconstr)\n",
    "if type(data_info_dic['event_col']) == list:\n",
    "    n_events = len(data_info_dic['event_col'])\n",
    "else:\n",
    "    n_events = 1\n",
    "# Given that the Framingham study is a long follow-up study which spans about 20 years (or around 7500 days),  \n",
    "# we discretize follow-up time by 10 days. Therefore, our time unit is 10-day.\n",
    "df_framingham[data_info_dic['time_col']] = np.round(df_framingham[data_info_dic['time_col']].values/10)\n",
    "df_framingham[data_info_dic['time_to_event_col']] = np.round(df_framingham[data_info_dic['time_to_event_col']].values/10)\n",
    "\n",
    "# We perform 0.65-0.15-0.2 (train-valid-test) split\n",
    "test_set_frac = 0.2; train_set_frac = 0.65\n",
    "random_seed = 1991 # set random seed for reproducibility\n",
    "np.random.seed(random_seed)\n",
    "\n",
    "sample_ids = set(df_framingham.RANDID.values)\n",
    "sample_ids_test = set(np.random.choice(list(sample_ids), size = int(len(sample_ids)*test_set_frac), replace = False))\n",
    "sample_ids_train = \tset(np.random.choice(list(sample_ids - sample_ids_test), size = int(len(sample_ids - sample_ids_test)*train_set_frac/(1-test_set_frac)), replace = False))\n",
    "sample_ids_valid = sample_ids - sample_ids_test - sample_ids_train\n",
    "\n",
    "data_test = df_framingham.loc[df_framingham.RANDID.isin(sample_ids_test)].sort_values([data_info_dic['id_col'], data_info_dic['time_col']], ascending = (True, True))\n",
    "data_train = df_framingham.loc[df_framingham.RANDID.isin(sample_ids_train)].sort_values([data_info_dic['id_col'], data_info_dic['time_col']], ascending = (True, True))\n",
    "data_valid = df_framingham.loc[df_framingham.RANDID.isin(sample_ids_valid)].sort_values([data_info_dic['id_col'], data_info_dic['time_col']], ascending = (True, True))\n",
    "\n",
    "# outlier processing\n",
    "# We threshold outliers (i.e. feature vals < 0.005 percentile of corresponding feature vals in training set \n",
    "# AND feature vals > 0.995 percentile of corresponding features vals in training set)\n",
    "feats_oi = feat_cont + ['CIGPDAY']; feat_to_min_max_dict = {}\n",
    "for feat in feats_oi:\n",
    "    min_feat = np.quantile(data_train[feat].dropna().values, q = 0.005)\n",
    "    max_feat = np.quantile(data_train[feat].dropna().values, q = 0.995)\n",
    "    data_train.loc[data_train[feat] < min_feat, feat] = min_feat\n",
    "    data_train.loc[data_train[feat] > max_feat, feat] = max_feat\n",
    "    feat_to_min_max_dict[feat] = (min_feat, max_feat)\n",
    "    # control outliers in the valid + test co hort using training set\n",
    "    data_valid.loc[data_valid[feat] < min_feat, feat] = min_feat\n",
    "    data_valid.loc[data_valid[feat] > max_feat, feat] = max_feat\n",
    "    data_test.loc[data_test[feat] < min_feat, feat] = min_feat\n",
    "    data_test.loc[data_test[feat] > max_feat, feat] = max_feat"
   ]
  },
  {
   "cell_type": "markdown",
   "metadata": {},
   "source": [
    "## Choose model hyperparameters and instantiate the model object"
   ]
  },
  {
   "cell_type": "code",
   "execution_count": 4,
   "metadata": {},
   "outputs": [],
   "source": [
    "# lr : learning rate\n",
    "# surv_loss_scale : determines the scaling factor for the survival loss in the total loss\n",
    "# wait_until_full_surv_loss : wait # epochs until the full survival loss scaling, which allows the model to learn input representation before tuning survival estimates.\n",
    "batch_size=50; lr=0.01; surv_loss_scale=100; wait_until_full_surv_loss=3; early_stopping = True;\n",
    "# ODE-RNN encoder\n",
    "# enc_f_nn_layers : # of layers in the neural networks function f() for learning the latent dynamics on the encoder side\n",
    "# enc_latent_dim : dimensionality in the latent embedding on the encoder side\n",
    "# num_units_gru : # of units in each GRU cell\n",
    "enc_latent_dim=80; enc_f_nn_layers=7; num_units_gru=65; \n",
    "\n",
    "# Decoder \n",
    "# dec_g_nn_layers : # of layers in the neural networks function g() for learning the latent dynamics on the decoder side\n",
    "# dec_latent_dim : dimensionality in the latent embedding on the decoder side\n",
    "# haz_dec_layers : # of layers in the cause-specific decoder module for hazard estimation\n",
    "# num_units_ode : # of units in function f() and g()\n",
    "dec_g_nn_layers=3; dec_latent_dim=60; haz_dec_layers=3; num_units_ode=30; \n",
    "\n",
    "# Specify the prediction window to 8000 days from the entry with 10-day as a unit time\n",
    "max_pred_window = 800;\n",
    "n_epochs = 15; # number of training epochs\n",
    "\n",
    "# instantiate the model :\n",
    "model = SurvLatentODE(input_dim = feats_dim, reconstr_dim = reconstr_dim, dec_latent_dim = dec_latent_dim, enc_latent_dim = enc_latent_dim, enc_f_nn_layers = enc_f_nn_layers, \n",
    "                      dec_g_nn_layers = dec_g_nn_layers, num_units_ode = num_units_ode, num_units_gru = num_units_gru, device = DEVICE, n_events = n_events, haz_dec_layers = haz_dec_layers)\n",
    "# set the unique identifier for the corresponding training\n",
    "run_id = 'framingham_death_outcome_example_v1_1'"
   ]
  },
  {
   "cell_type": "markdown",
   "metadata": {},
   "source": [
    "## Training and evaluating the model"
   ]
  },
  {
   "cell_type": "code",
   "execution_count": 5,
   "metadata": {
    "scrolled": true
   },
   "outputs": [
    {
     "name": "stderr",
     "output_type": "stream",
     "text": [
      "Pre-processing data...: 100%|██████████| 2882/2882 [00:00<00:00, 17156.59it/s]\n",
      "Pre-processing data...: 100%|██████████| 666/666 [00:00<00:00, 22998.00it/s]\n",
      "/Users/intaemoon/github/survlatent_ode/lib/utils.py\n",
      "\n"
     ]
    },
    {
     "name": "stdout",
     "output_type": "stream",
     "text": [
      "Directory 'framingham_death_outcome_example_v1_1' created\n",
      "Directory 'surv_curves/framingham_death_outcome_example_v1_1/reconstruction' created\n"
     ]
    },
    {
     "name": "stderr",
     "output_type": "stream",
     "text": [
      "Training across 15 epochs:   7%|▋         | 57/870 [02:27<31:23,  2.32s/it]"
     ]
    },
    {
     "name": "stdout",
     "output_type": "stream",
     "text": [
      "Epoch :  1\n"
     ]
    },
    {
     "name": "stderr",
     "output_type": "stream",
     "text": [
      "\n",
      "Loading validation set...:   0%|          | 0/4 [00:00<?, ?it/s]\u001b[A\n",
      "Loading validation set...:  25%|██▌       | 1/4 [00:00<00:01,  1.93it/s]\u001b[A\n",
      "Loading validation set...:  50%|█████     | 2/4 [00:01<00:01,  1.77it/s]\u001b[A\n",
      "Loading validation set...:  75%|███████▌  | 3/4 [00:01<00:00,  1.72it/s]\u001b[A\n",
      "Loading validation set...: 100%|██████████| 4/4 [00:02<00:00,  1.95it/s]\u001b[A\n"
     ]
    },
    {
     "name": "stdout",
     "output_type": "stream",
     "text": [
      "\n",
      "\n",
      "============ Validation set performance ============\n",
      "survival log-likelihood :  -2107.5955\n",
      "reconstr. likelihood :  0.8556\n",
      "remaining time-to-event in validation/test set [25%, 37.5%, 50%, 62.5%, 75%] percentiles :  [107 154 194 226 302]\n",
      "Performance at quantiles : \n",
      "BS(t) at the percentiles :  {0.25: 0.1648, 0.375: 0.2513, 0.5: 0.3161, 0.625: 0.3574, 0.75: 0.4456}\n",
      "AUC(t) at the percentiles :  {0.25: 0.595, 0.375: 0.5713, 0.5: 0.5464, 0.625: 0.5704, 0.75: 0.5516}\n",
      "mean AUC(t) over 25-75 percentile :  0.5754\n",
      "Integrated BS(t) over 25-75 percentile :  0.3208\n",
      "====================================================\n",
      "\n",
      "\n"
     ]
    },
    {
     "name": "stderr",
     "output_type": "stream",
     "text": [
      "\r",
      "Training across 15 epochs:   7%|▋         | 58/870 [02:34<52:25,  3.87s/it]"
     ]
    },
    {
     "name": "stdout",
     "output_type": "stream",
     "text": [
      "Best iteration so far wrt. mean AUC :  1\n",
      "Storing the latest model...\n",
      "model_performance/framingham_death_outcome_example_v1_1/latest_model.pt\n",
      "\n",
      "\n"
     ]
    },
    {
     "name": "stderr",
     "output_type": "stream",
     "text": [
      "Training across 15 epochs:  13%|█▎        | 115/870 [04:56<30:22,  2.41s/it]"
     ]
    },
    {
     "name": "stdout",
     "output_type": "stream",
     "text": [
      "Epoch :  2\n"
     ]
    },
    {
     "name": "stderr",
     "output_type": "stream",
     "text": [
      "\n",
      "Loading validation set...:   0%|          | 0/4 [00:00<?, ?it/s]\u001b[A\n",
      "Loading validation set...:  25%|██▌       | 1/4 [00:00<00:01,  1.83it/s]\u001b[A\n",
      "Loading validation set...:  50%|█████     | 2/4 [00:01<00:01,  1.87it/s]\u001b[A\n",
      "Loading validation set...:  75%|███████▌  | 3/4 [00:01<00:00,  1.69it/s]\u001b[A\n",
      "Loading validation set...: 100%|██████████| 4/4 [00:02<00:00,  1.96it/s]\u001b[A\n"
     ]
    },
    {
     "name": "stdout",
     "output_type": "stream",
     "text": [
      "\n",
      "\n",
      "============ Validation set performance ============\n",
      "survival log-likelihood :  -1579.8673\n",
      "reconstr. likelihood :  0.8555\n",
      "remaining time-to-event in validation/test set [25%, 37.5%, 50%, 62.5%, 75%] percentiles :  [107 154 194 226 302]\n",
      "Performance at quantiles : \n",
      "BS(t) at the percentiles :  {0.25: 0.0683, 0.375: 0.0988, 0.5: 0.1255, 0.625: 0.1508, 0.75: 0.172}\n",
      "AUC(t) at the percentiles :  {0.25: 0.5945, 0.375: 0.5709, 0.5: 0.5473, 0.625: 0.5685, 0.75: 0.551}\n",
      "mean AUC(t) over 25-75 percentile :  0.5736\n",
      "Integrated BS(t) over 25-75 percentile :  0.1284\n",
      "====================================================\n",
      "\n",
      "\n"
     ]
    },
    {
     "name": "stderr",
     "output_type": "stream",
     "text": [
      "\r",
      "Training across 15 epochs:  13%|█▎        | 116/870 [05:03<47:10,  3.75s/it]"
     ]
    },
    {
     "name": "stdout",
     "output_type": "stream",
     "text": [
      "Best iteration so far wrt. mean AUC :  1\n",
      "Storing the latest model...\n",
      "model_performance/framingham_death_outcome_example_v1_1/latest_model.pt\n",
      "\n",
      "\n"
     ]
    },
    {
     "name": "stderr",
     "output_type": "stream",
     "text": [
      "Training across 15 epochs:  20%|█▉        | 173/870 [07:19<27:08,  2.34s/it]"
     ]
    },
    {
     "name": "stdout",
     "output_type": "stream",
     "text": [
      "Epoch :  3\n"
     ]
    },
    {
     "name": "stderr",
     "output_type": "stream",
     "text": [
      "\n",
      "Loading validation set...:   0%|          | 0/4 [00:00<?, ?it/s]\u001b[A\n",
      "Loading validation set...:  25%|██▌       | 1/4 [00:00<00:01,  1.65it/s]\u001b[A\n",
      "Loading validation set...:  50%|█████     | 2/4 [00:01<00:01,  1.46it/s]\u001b[A\n",
      "Loading validation set...:  75%|███████▌  | 3/4 [00:02<00:00,  1.49it/s]\u001b[A\n",
      "Loading validation set...: 100%|██████████| 4/4 [00:02<00:00,  1.71it/s]\u001b[A\n"
     ]
    },
    {
     "name": "stdout",
     "output_type": "stream",
     "text": [
      "\n",
      "\n",
      "============ Validation set performance ============\n",
      "survival log-likelihood :  -1580.3551\n",
      "reconstr. likelihood :  0.8555\n",
      "remaining time-to-event in validation/test set [25%, 37.5%, 50%, 62.5%, 75%] percentiles :  [107 154 194 226 302]\n",
      "Performance at quantiles : \n",
      "BS(t) at the percentiles :  {0.25: 0.0685, 0.375: 0.0991, 0.5: 0.1256, 0.625: 0.1506, 0.75: 0.1722}\n",
      "AUC(t) at the percentiles :  {0.25: 0.5948, 0.375: 0.572, 0.5: 0.5534, 0.625: 0.5774, 0.75: 0.5639}\n",
      "mean AUC(t) over 25-75 percentile :  0.5784\n",
      "Integrated BS(t) over 25-75 percentile :  0.1285\n",
      "====================================================\n",
      "\n",
      "\n"
     ]
    },
    {
     "name": "stderr",
     "output_type": "stream",
     "text": [
      "\r",
      "Training across 15 epochs:  20%|██        | 174/870 [07:27<46:30,  4.01s/it]"
     ]
    },
    {
     "name": "stdout",
     "output_type": "stream",
     "text": [
      "Best iteration so far wrt. mean AUC :  3\n",
      "Storing the latest model...\n",
      "model_performance/framingham_death_outcome_example_v1_1/latest_model.pt\n",
      "\n",
      "\n",
      "Storing the best model...\n"
     ]
    },
    {
     "name": "stderr",
     "output_type": "stream",
     "text": [
      "Training across 15 epochs:  27%|██▋       | 231/870 [09:42<25:11,  2.36s/it]"
     ]
    },
    {
     "name": "stdout",
     "output_type": "stream",
     "text": [
      "Epoch :  4\n"
     ]
    },
    {
     "name": "stderr",
     "output_type": "stream",
     "text": [
      "\n",
      "Loading validation set...:   0%|          | 0/4 [00:00<?, ?it/s]\u001b[A\n",
      "Loading validation set...:  25%|██▌       | 1/4 [00:00<00:01,  1.93it/s]\u001b[A\n",
      "Loading validation set...:  50%|█████     | 2/4 [00:01<00:01,  1.82it/s]\u001b[A\n",
      "Loading validation set...:  75%|███████▌  | 3/4 [00:01<00:00,  1.80it/s]\u001b[A\n",
      "Loading validation set...: 100%|██████████| 4/4 [00:01<00:00,  2.03it/s]\u001b[A\n"
     ]
    },
    {
     "name": "stdout",
     "output_type": "stream",
     "text": [
      "\n",
      "\n",
      "============ Validation set performance ============\n",
      "survival log-likelihood :  -1571.1545\n",
      "reconstr. likelihood :  0.8563\n",
      "remaining time-to-event in validation/test set [25%, 37.5%, 50%, 62.5%, 75%] percentiles :  [107 154 194 226 302]\n",
      "Performance at quantiles : \n",
      "BS(t) at the percentiles :  {0.25: 0.0678, 0.375: 0.097, 0.5: 0.1228, 0.625: 0.146, 0.75: 0.1657}\n",
      "AUC(t) at the percentiles :  {0.25: 0.6448, 0.375: 0.643, 0.5: 0.6615, 0.625: 0.6689, 0.75: 0.6562}\n",
      "mean AUC(t) over 25-75 percentile :  0.6519\n",
      "Integrated BS(t) over 25-75 percentile :  0.1248\n",
      "====================================================\n",
      "\n",
      "\n",
      "Best iteration so far wrt. mean AUC :  4\n",
      "Storing the latest model...\n",
      "model_performance/framingham_death_outcome_example_v1_1/latest_model.pt\n",
      "\n",
      "\n",
      "Storing the best model...\n"
     ]
    },
    {
     "name": "stderr",
     "output_type": "stream",
     "text": [
      "Training across 15 epochs:  33%|███▎      | 289/870 [12:17<24:41,  2.55s/it]"
     ]
    },
    {
     "name": "stdout",
     "output_type": "stream",
     "text": [
      "Epoch :  5\n"
     ]
    },
    {
     "name": "stderr",
     "output_type": "stream",
     "text": [
      "\n",
      "Loading validation set...:   0%|          | 0/4 [00:00<?, ?it/s]\u001b[A\n",
      "Loading validation set...:  25%|██▌       | 1/4 [00:00<00:01,  1.62it/s]\u001b[A\n",
      "Loading validation set...:  50%|█████     | 2/4 [00:01<00:01,  1.61it/s]\u001b[A\n",
      "Loading validation set...:  75%|███████▌  | 3/4 [00:01<00:00,  1.60it/s]\u001b[A\n",
      "Loading validation set...: 100%|██████████| 4/4 [00:02<00:00,  1.80it/s]\u001b[A\n"
     ]
    },
    {
     "name": "stdout",
     "output_type": "stream",
     "text": [
      "\n",
      "\n",
      "============ Validation set performance ============\n",
      "survival log-likelihood :  -1570.5387\n",
      "reconstr. likelihood :  0.8555\n",
      "remaining time-to-event in validation/test set [25%, 37.5%, 50%, 62.5%, 75%] percentiles :  [107 154 194 226 302]\n",
      "Performance at quantiles : \n",
      "BS(t) at the percentiles :  {0.25: 0.067, 0.375: 0.0947, 0.5: 0.1196, 0.625: 0.1437, 0.75: 0.1629}\n",
      "AUC(t) at the percentiles :  {0.25: 0.6766, 0.375: 0.6852, 0.5: 0.6988, 0.625: 0.6845, 0.75: 0.6638}\n",
      "mean AUC(t) over 25-75 percentile :  0.6813\n",
      "Integrated BS(t) over 25-75 percentile :  0.1226\n",
      "====================================================\n",
      "\n",
      "\n"
     ]
    },
    {
     "name": "stderr",
     "output_type": "stream",
     "text": [
      "\r",
      "Training across 15 epochs:  33%|███▎      | 290/870 [12:25<40:06,  4.15s/it]"
     ]
    },
    {
     "name": "stdout",
     "output_type": "stream",
     "text": [
      "Best iteration so far wrt. mean AUC :  5\n",
      "Storing the latest model...\n",
      "model_performance/framingham_death_outcome_example_v1_1/latest_model.pt\n",
      "\n",
      "\n",
      "Storing the best model...\n"
     ]
    },
    {
     "name": "stderr",
     "output_type": "stream",
     "text": [
      "Training across 15 epochs:  40%|███▉      | 347/870 [14:45<20:19,  2.33s/it]"
     ]
    },
    {
     "name": "stdout",
     "output_type": "stream",
     "text": [
      "Epoch :  6\n"
     ]
    },
    {
     "name": "stderr",
     "output_type": "stream",
     "text": [
      "\n",
      "Loading validation set...:   0%|          | 0/4 [00:00<?, ?it/s]\u001b[A\n",
      "Loading validation set...:  25%|██▌       | 1/4 [00:00<00:01,  1.96it/s]\u001b[A\n",
      "Loading validation set...:  50%|█████     | 2/4 [00:01<00:01,  1.87it/s]\u001b[A\n",
      "Loading validation set...:  75%|███████▌  | 3/4 [00:01<00:00,  1.83it/s]\u001b[A\n",
      "Loading validation set...: 100%|██████████| 4/4 [00:01<00:00,  2.06it/s]\u001b[A\n"
     ]
    },
    {
     "name": "stdout",
     "output_type": "stream",
     "text": [
      "\n",
      "\n",
      "============ Validation set performance ============\n",
      "survival log-likelihood :  -1587.4364\n",
      "reconstr. likelihood :  0.8557\n",
      "remaining time-to-event in validation/test set [25%, 37.5%, 50%, 62.5%, 75%] percentiles :  [107 154 194 226 302]\n",
      "Performance at quantiles : \n",
      "BS(t) at the percentiles :  {0.25: 0.0773, 0.375: 0.1016, 0.5: 0.1208, 0.625: 0.1393, 0.75: 0.1613}\n",
      "AUC(t) at the percentiles :  {0.25: 0.7187, 0.375: 0.7229, 0.5: 0.7492, 0.625: 0.7304, 0.75: 0.7193}\n",
      "mean AUC(t) over 25-75 percentile :  0.7277\n",
      "Integrated BS(t) over 25-75 percentile :  0.1243\n",
      "====================================================\n",
      "\n",
      "\n"
     ]
    },
    {
     "name": "stderr",
     "output_type": "stream",
     "text": [
      "\r",
      "Training across 15 epochs:  40%|████      | 348/870 [14:52<33:25,  3.84s/it]"
     ]
    },
    {
     "name": "stdout",
     "output_type": "stream",
     "text": [
      "Best iteration so far wrt. mean AUC :  6\n",
      "Storing the latest model...\n",
      "model_performance/framingham_death_outcome_example_v1_1/latest_model.pt\n",
      "\n",
      "\n",
      "Storing the best model...\n"
     ]
    },
    {
     "name": "stderr",
     "output_type": "stream",
     "text": [
      "Training across 15 epochs:  47%|████▋     | 405/870 [17:32<21:56,  2.83s/it]"
     ]
    },
    {
     "name": "stdout",
     "output_type": "stream",
     "text": [
      "Epoch :  7\n"
     ]
    },
    {
     "name": "stderr",
     "output_type": "stream",
     "text": [
      "\n",
      "Loading validation set...:   0%|          | 0/4 [00:00<?, ?it/s]\u001b[A\n",
      "Loading validation set...:  25%|██▌       | 1/4 [00:00<00:02,  1.14it/s]\u001b[A\n",
      "Loading validation set...:  50%|█████     | 2/4 [00:01<00:01,  1.15it/s]\u001b[A\n",
      "Loading validation set...:  75%|███████▌  | 3/4 [00:02<00:00,  1.20it/s]\u001b[A\n",
      "Loading validation set...: 100%|██████████| 4/4 [00:02<00:00,  1.34it/s]\u001b[A\n"
     ]
    },
    {
     "name": "stdout",
     "output_type": "stream",
     "text": [
      "\n",
      "\n",
      "============ Validation set performance ============\n",
      "survival log-likelihood :  -1554.5369\n",
      "reconstr. likelihood :  0.8549\n",
      "remaining time-to-event in validation/test set [25%, 37.5%, 50%, 62.5%, 75%] percentiles :  [107 154 194 226 302]\n",
      "Performance at quantiles : \n",
      "BS(t) at the percentiles :  {0.25: 0.0693, 0.375: 0.099, 0.5: 0.1216, 0.625: 0.1414, 0.75: 0.1615}\n",
      "AUC(t) at the percentiles :  {0.25: 0.7575, 0.375: 0.7417, 0.5: 0.7547, 0.625: 0.7466, 0.75: 0.7495}\n",
      "mean AUC(t) over 25-75 percentile :  0.7502\n",
      "Integrated BS(t) over 25-75 percentile :  0.1236\n",
      "====================================================\n",
      "\n",
      "\n",
      "Best iteration so far wrt. mean AUC :  7\n",
      "Storing the latest model...\n",
      "model_performance/framingham_death_outcome_example_v1_1/latest_model.pt\n",
      "\n",
      "\n",
      "Storing the best model...\n"
     ]
    },
    {
     "name": "stderr",
     "output_type": "stream",
     "text": [
      "Training across 15 epochs:  53%|█████▎    | 463/870 [20:35<20:35,  3.03s/it]"
     ]
    },
    {
     "name": "stdout",
     "output_type": "stream",
     "text": [
      "Epoch :  8\n"
     ]
    },
    {
     "name": "stderr",
     "output_type": "stream",
     "text": [
      "\n",
      "Loading validation set...:   0%|          | 0/4 [00:00<?, ?it/s]\u001b[A\n",
      "Loading validation set...:  25%|██▌       | 1/4 [00:00<00:02,  1.04it/s]\u001b[A\n",
      "Loading validation set...:  50%|█████     | 2/4 [00:02<00:02,  1.07s/it]\u001b[A\n",
      "Loading validation set...:  75%|███████▌  | 3/4 [00:03<00:01,  1.02s/it]\u001b[A\n",
      "Loading validation set...: 100%|██████████| 4/4 [00:03<00:00,  1.13it/s]\u001b[A\n"
     ]
    },
    {
     "name": "stdout",
     "output_type": "stream",
     "text": [
      "\n",
      "\n",
      "============ Validation set performance ============\n",
      "survival log-likelihood :  -1520.6511\n",
      "reconstr. likelihood :  0.8549\n",
      "remaining time-to-event in validation/test set [25%, 37.5%, 50%, 62.5%, 75%] percentiles :  [107 154 194 226 302]\n",
      "Performance at quantiles : \n",
      "BS(t) at the percentiles :  {0.25: 0.0649, 0.375: 0.0907, 0.5: 0.1096, 0.625: 0.1268, 0.75: 0.1391}\n",
      "AUC(t) at the percentiles :  {0.25: 0.7567, 0.375: 0.732, 0.5: 0.7577, 0.625: 0.7562, 0.75: 0.7653}\n",
      "mean AUC(t) over 25-75 percentile :  0.7516\n",
      "Integrated BS(t) over 25-75 percentile :  0.1106\n",
      "====================================================\n",
      "\n",
      "\n",
      "Best iteration so far wrt. mean AUC :  8\n",
      "Storing the latest model...\n",
      "model_performance/framingham_death_outcome_example_v1_1/latest_model.pt\n",
      "\n",
      "\n",
      "Storing the best model...\n"
     ]
    },
    {
     "name": "stderr",
     "output_type": "stream",
     "text": [
      "Training across 15 epochs:  60%|█████▉    | 521/870 [23:34<15:29,  2.66s/it]"
     ]
    },
    {
     "name": "stdout",
     "output_type": "stream",
     "text": [
      "Epoch :  9\n"
     ]
    },
    {
     "name": "stderr",
     "output_type": "stream",
     "text": [
      "\n",
      "Loading validation set...:   0%|          | 0/4 [00:00<?, ?it/s]\u001b[A\n",
      "Loading validation set...:  25%|██▌       | 1/4 [00:00<00:02,  1.16it/s]\u001b[A\n",
      "Loading validation set...:  50%|█████     | 2/4 [00:01<00:01,  1.14it/s]\u001b[A\n",
      "Loading validation set...:  75%|███████▌  | 3/4 [00:02<00:00,  1.18it/s]\u001b[A\n",
      "Loading validation set...: 100%|██████████| 4/4 [00:03<00:00,  1.32it/s]\u001b[A\n"
     ]
    },
    {
     "name": "stdout",
     "output_type": "stream",
     "text": [
      "\n",
      "\n",
      "============ Validation set performance ============\n",
      "survival log-likelihood :  -1521.8904\n",
      "reconstr. likelihood :  0.8551\n",
      "remaining time-to-event in validation/test set [25%, 37.5%, 50%, 62.5%, 75%] percentiles :  [107 154 194 226 302]\n",
      "Performance at quantiles : \n",
      "BS(t) at the percentiles :  {0.25: 0.0638, 0.375: 0.0884, 0.5: 0.1089, 0.625: 0.1275, 0.75: 0.1393}\n",
      "AUC(t) at the percentiles :  {0.25: 0.7489, 0.375: 0.7265, 0.5: 0.754, 0.625: 0.76, 0.75: 0.7663}\n",
      "mean AUC(t) over 25-75 percentile :  0.7471\n",
      "Integrated BS(t) over 25-75 percentile :  0.1099\n",
      "====================================================\n",
      "\n",
      "\n"
     ]
    },
    {
     "name": "stderr",
     "output_type": "stream",
     "text": [
      "\r",
      "Training across 15 epochs:  60%|██████    | 522/870 [23:45<29:04,  5.01s/it]"
     ]
    },
    {
     "name": "stdout",
     "output_type": "stream",
     "text": [
      "Best iteration so far wrt. mean AUC :  8\n",
      "Storing the latest model...\n",
      "model_performance/framingham_death_outcome_example_v1_1/latest_model.pt\n",
      "\n",
      "\n"
     ]
    },
    {
     "name": "stderr",
     "output_type": "stream",
     "text": [
      "Training across 15 epochs:  67%|██████▋   | 579/870 [26:22<13:17,  2.74s/it]"
     ]
    },
    {
     "name": "stdout",
     "output_type": "stream",
     "text": [
      "Epoch :  10\n"
     ]
    },
    {
     "name": "stderr",
     "output_type": "stream",
     "text": [
      "\n",
      "Loading validation set...:   0%|          | 0/4 [00:00<?, ?it/s]\u001b[A\n",
      "Loading validation set...:  25%|██▌       | 1/4 [00:00<00:02,  1.08it/s]\u001b[A\n",
      "Loading validation set...:  50%|█████     | 2/4 [00:01<00:01,  1.12it/s]\u001b[A\n",
      "Loading validation set...:  75%|███████▌  | 3/4 [00:02<00:00,  1.15it/s]\u001b[A\n",
      "Loading validation set...: 100%|██████████| 4/4 [00:03<00:00,  1.28it/s]\u001b[A\n"
     ]
    },
    {
     "name": "stdout",
     "output_type": "stream",
     "text": [
      "\n",
      "\n",
      "============ Validation set performance ============\n",
      "survival log-likelihood :  -1523.48\n",
      "reconstr. likelihood :  0.8547\n",
      "remaining time-to-event in validation/test set [25%, 37.5%, 50%, 62.5%, 75%] percentiles :  [107 154 194 226 302]\n",
      "Performance at quantiles : \n",
      "BS(t) at the percentiles :  {0.25: 0.0665, 0.375: 0.0938, 0.5: 0.113, 0.625: 0.1295, 0.75: 0.1432}\n",
      "AUC(t) at the percentiles :  {0.25: 0.771, 0.375: 0.7529, 0.5: 0.7721, 0.625: 0.773, 0.75: 0.79}\n",
      "mean AUC(t) over 25-75 percentile :  0.7679\n",
      "Integrated BS(t) over 25-75 percentile :  0.1137\n",
      "====================================================\n",
      "\n",
      "\n",
      "Best iteration so far wrt. mean AUC :  10\n",
      "Storing the latest model...\n",
      "model_performance/framingham_death_outcome_example_v1_1/latest_model.pt\n",
      "\n",
      "\n",
      "Storing the best model...\n"
     ]
    },
    {
     "name": "stderr",
     "output_type": "stream",
     "text": [
      "Training across 15 epochs:  73%|███████▎  | 637/870 [29:17<11:49,  3.04s/it]"
     ]
    },
    {
     "name": "stdout",
     "output_type": "stream",
     "text": [
      "Epoch :  11\n"
     ]
    },
    {
     "name": "stderr",
     "output_type": "stream",
     "text": [
      "\n",
      "Loading validation set...:   0%|          | 0/4 [00:00<?, ?it/s]\u001b[A\n",
      "Loading validation set...:  25%|██▌       | 1/4 [00:01<00:03,  1.10s/it]\u001b[A\n",
      "Loading validation set...:  50%|█████     | 2/4 [00:02<00:02,  1.20s/it]\u001b[A\n",
      "Loading validation set...:  75%|███████▌  | 3/4 [00:03<00:01,  1.17s/it]\u001b[A\n",
      "Loading validation set...: 100%|██████████| 4/4 [00:04<00:00,  1.03s/it]\u001b[A\n"
     ]
    },
    {
     "name": "stdout",
     "output_type": "stream",
     "text": [
      "\n",
      "\n",
      "============ Validation set performance ============\n",
      "survival log-likelihood :  -1526.2441\n",
      "reconstr. likelihood :  0.8548\n",
      "remaining time-to-event in validation/test set [25%, 37.5%, 50%, 62.5%, 75%] percentiles :  [107 154 194 226 302]\n",
      "Performance at quantiles : \n",
      "BS(t) at the percentiles :  {0.25: 0.0633, 0.375: 0.0895, 0.5: 0.1122, 0.625: 0.1327, 0.75: 0.145}\n",
      "AUC(t) at the percentiles :  {0.25: 0.7453, 0.375: 0.7229, 0.5: 0.7468, 0.625: 0.7548, 0.75: 0.7752}\n",
      "mean AUC(t) over 25-75 percentile :  0.7436\n",
      "Integrated BS(t) over 25-75 percentile :  0.1132\n",
      "====================================================\n",
      "\n",
      "\n",
      "Best iteration so far wrt. mean AUC :  10\n",
      "Storing the latest model...\n",
      "model_performance/framingham_death_outcome_example_v1_1/latest_model.pt\n",
      "\n",
      "\n"
     ]
    },
    {
     "name": "stderr",
     "output_type": "stream",
     "text": [
      "Training across 15 epochs:  80%|███████▉  | 695/870 [32:25<09:09,  3.14s/it]"
     ]
    },
    {
     "name": "stdout",
     "output_type": "stream",
     "text": [
      "Epoch :  12\n"
     ]
    },
    {
     "name": "stderr",
     "output_type": "stream",
     "text": [
      "\n",
      "Loading validation set...:   0%|          | 0/4 [00:00<?, ?it/s]\u001b[A\n",
      "Loading validation set...:  25%|██▌       | 1/4 [00:00<00:02,  1.04it/s]\u001b[A\n",
      "Loading validation set...:  50%|█████     | 2/4 [00:01<00:01,  1.02it/s]\u001b[A\n",
      "Loading validation set...:  75%|███████▌  | 3/4 [00:03<00:01,  1.01s/it]\u001b[A\n",
      "Loading validation set...: 100%|██████████| 4/4 [00:03<00:00,  1.09it/s]\u001b[A\n"
     ]
    },
    {
     "name": "stdout",
     "output_type": "stream",
     "text": [
      "\n",
      "\n",
      "============ Validation set performance ============\n",
      "survival log-likelihood :  -1517.5461\n",
      "reconstr. likelihood :  0.855\n",
      "remaining time-to-event in validation/test set [25%, 37.5%, 50%, 62.5%, 75%] percentiles :  [107 154 194 226 302]\n",
      "Performance at quantiles : \n",
      "BS(t) at the percentiles :  {0.25: 0.0636, 0.375: 0.0868, 0.5: 0.1077, 0.625: 0.1248, 0.75: 0.136}\n",
      "AUC(t) at the percentiles :  {0.25: 0.747, 0.375: 0.7298, 0.5: 0.7576, 0.625: 0.7611, 0.75: 0.7792}\n",
      "mean AUC(t) over 25-75 percentile :  0.7493\n",
      "Integrated BS(t) over 25-75 percentile :  0.1079\n",
      "====================================================\n",
      "\n",
      "\n",
      "Best iteration so far wrt. mean AUC :  10\n",
      "Storing the latest model...\n",
      "model_performance/framingham_death_outcome_example_v1_1/latest_model.pt\n"
     ]
    },
    {
     "name": "stderr",
     "output_type": "stream",
     "text": [
      "\r",
      "Training across 15 epochs:  80%|████████  | 696/870 [32:38<17:30,  6.04s/it]"
     ]
    },
    {
     "name": "stdout",
     "output_type": "stream",
     "text": [
      "\n",
      "\n"
     ]
    },
    {
     "name": "stderr",
     "output_type": "stream",
     "text": [
      "Training across 15 epochs:  87%|████████▋ | 753/870 [36:00<06:49,  3.50s/it]"
     ]
    },
    {
     "name": "stdout",
     "output_type": "stream",
     "text": [
      "Epoch :  13\n"
     ]
    },
    {
     "name": "stderr",
     "output_type": "stream",
     "text": [
      "\n",
      "Loading validation set...:   0%|          | 0/4 [00:00<?, ?it/s]\u001b[A\n",
      "Loading validation set...:  25%|██▌       | 1/4 [00:01<00:03,  1.06s/it]\u001b[A\n",
      "Loading validation set...:  50%|█████     | 2/4 [00:02<00:02,  1.07s/it]\u001b[A\n",
      "Loading validation set...:  75%|███████▌  | 3/4 [00:03<00:01,  1.08s/it]\u001b[A\n",
      "Loading validation set...: 100%|██████████| 4/4 [00:03<00:00,  1.02it/s]\u001b[A\n"
     ]
    },
    {
     "name": "stdout",
     "output_type": "stream",
     "text": [
      "\n",
      "\n",
      "============ Validation set performance ============\n",
      "survival log-likelihood :  -1513.2214\n",
      "reconstr. likelihood :  0.8549\n",
      "remaining time-to-event in validation/test set [25%, 37.5%, 50%, 62.5%, 75%] percentiles :  [107 154 194 226 302]\n",
      "Performance at quantiles : \n",
      "BS(t) at the percentiles :  {0.25: 0.0648, 0.375: 0.0898, 0.5: 0.1097, 0.625: 0.1261, 0.75: 0.1354}\n",
      "AUC(t) at the percentiles :  {0.25: 0.7471, 0.375: 0.7312, 0.5: 0.758, 0.625: 0.7591, 0.75: 0.7766}\n",
      "mean AUC(t) over 25-75 percentile :  0.7493\n",
      "Integrated BS(t) over 25-75 percentile :  0.1092\n",
      "====================================================\n",
      "\n",
      "\n",
      "Best iteration so far wrt. mean AUC :  10\n",
      "Storing the latest model...\n",
      "model_performance/framingham_death_outcome_example_v1_1/latest_model.pt\n"
     ]
    },
    {
     "name": "stderr",
     "output_type": "stream",
     "text": [
      "\r",
      "Training across 15 epochs:  87%|████████▋ | 754/870 [36:16<13:59,  7.24s/it]"
     ]
    },
    {
     "name": "stdout",
     "output_type": "stream",
     "text": [
      "\n",
      "\n"
     ]
    },
    {
     "name": "stderr",
     "output_type": "stream",
     "text": [
      "Training across 15 epochs:  93%|█████████▎| 811/870 [40:37<03:12,  3.26s/it]"
     ]
    },
    {
     "name": "stdout",
     "output_type": "stream",
     "text": [
      "Epoch :  14\n"
     ]
    },
    {
     "name": "stderr",
     "output_type": "stream",
     "text": [
      "\n",
      "Loading validation set...:   0%|          | 0/4 [00:00<?, ?it/s]\u001b[A\n",
      "Loading validation set...:  25%|██▌       | 1/4 [00:01<00:03,  1.03s/it]\u001b[A\n",
      "Loading validation set...:  50%|█████     | 2/4 [00:02<00:02,  1.03s/it]\u001b[A\n",
      "Loading validation set...:  75%|███████▌  | 3/4 [00:03<00:01,  1.02s/it]\u001b[A\n",
      "Loading validation set...: 100%|██████████| 4/4 [00:03<00:00,  1.10it/s]\u001b[A\n"
     ]
    },
    {
     "name": "stdout",
     "output_type": "stream",
     "text": [
      "\n",
      "\n",
      "============ Validation set performance ============\n",
      "survival log-likelihood :  -1514.8704\n",
      "reconstr. likelihood :  0.8552\n",
      "remaining time-to-event in validation/test set [25%, 37.5%, 50%, 62.5%, 75%] percentiles :  [107 154 194 226 302]\n",
      "Performance at quantiles : \n",
      "BS(t) at the percentiles :  {0.25: 0.0654, 0.375: 0.0908, 0.5: 0.1094, 0.625: 0.1262, 0.75: 0.1354}\n",
      "AUC(t) at the percentiles :  {0.25: 0.7484, 0.375: 0.7293, 0.5: 0.759, 0.625: 0.759, 0.75: 0.7771}\n",
      "mean AUC(t) over 25-75 percentile :  0.7498\n",
      "Integrated BS(t) over 25-75 percentile :  0.1101\n",
      "====================================================\n",
      "\n",
      "\n",
      "Best iteration so far wrt. mean AUC :  10\n",
      "Storing the latest model...\n",
      "model_performance/framingham_death_outcome_example_v1_1/latest_model.pt\n",
      "\n",
      "\n"
     ]
    },
    {
     "name": "stderr",
     "output_type": "stream",
     "text": [
      "Training across 15 epochs: 100%|█████████▉| 869/870 [43:33<00:02,  2.88s/it]"
     ]
    },
    {
     "name": "stdout",
     "output_type": "stream",
     "text": [
      "Epoch :  15\n"
     ]
    },
    {
     "name": "stderr",
     "output_type": "stream",
     "text": [
      "\n",
      "Loading validation set...:   0%|          | 0/4 [00:00<?, ?it/s]\u001b[A\n",
      "Loading validation set...:  25%|██▌       | 1/4 [00:00<00:02,  1.19it/s]\u001b[A\n",
      "Loading validation set...:  50%|█████     | 2/4 [00:01<00:01,  1.16it/s]\u001b[A\n",
      "Loading validation set...:  75%|███████▌  | 3/4 [00:02<00:00,  1.14it/s]\u001b[A\n",
      "Loading validation set...: 100%|██████████| 4/4 [00:03<00:00,  1.29it/s]\u001b[A\n"
     ]
    },
    {
     "name": "stdout",
     "output_type": "stream",
     "text": [
      "\n",
      "\n",
      "============ Validation set performance ============\n",
      "survival log-likelihood :  -1513.5619\n",
      "reconstr. likelihood :  0.8551\n",
      "remaining time-to-event in validation/test set [25%, 37.5%, 50%, 62.5%, 75%] percentiles :  [107 154 194 226 302]\n",
      "Performance at quantiles : \n",
      "BS(t) at the percentiles :  {0.25: 0.0644, 0.375: 0.0892, 0.5: 0.1095, 0.625: 0.1254, 0.75: 0.1356}\n",
      "AUC(t) at the percentiles :  {0.25: 0.7487, 0.375: 0.7239, 0.5: 0.7494, 0.625: 0.7506, 0.75: 0.7701}\n",
      "mean AUC(t) over 25-75 percentile :  0.7445\n",
      "Integrated BS(t) over 25-75 percentile :  0.1094\n",
      "====================================================\n",
      "\n",
      "\n"
     ]
    },
    {
     "name": "stderr",
     "output_type": "stream",
     "text": [
      "Training across 15 epochs: 100%|██████████| 870/870 [43:45<00:00,  3.02s/it]"
     ]
    },
    {
     "name": "stdout",
     "output_type": "stream",
     "text": [
      "Best iteration so far wrt. mean AUC :  10\n",
      "Storing the latest model...\n",
      "model_performance/framingham_death_outcome_example_v1_1/latest_model.pt\n",
      "\n",
      "\n"
     ]
    },
    {
     "name": "stderr",
     "output_type": "stream",
     "text": [
      "\n"
     ]
    }
   ],
   "source": [
    "# train model\n",
    "model.fit(data_train, data_valid, data_info_dic, max_pred_window = max_pred_window, run_id = run_id, n_epochs = n_epochs, batch_size = batch_size, surv_loss_scale = surv_loss_scale, early_stopping = early_stopping, feat_reconstr = feat_reconstr, wait_until_full_surv_loss = wait_until_full_surv_loss, random_seed = random_seed)"
   ]
  },
  {
   "cell_type": "code",
   "execution_count": 6,
   "metadata": {},
   "outputs": [
    {
     "name": "stdout",
     "output_type": "stream",
     "text": [
      "Loading the trained model...\n",
      "run_id :  framingham_death_outcome_example_v1_1\n"
     ]
    },
    {
     "name": "stderr",
     "output_type": "stream",
     "text": [
      "Pre-processing data...: 100%|██████████| 886/886 [00:00<00:00, 9197.26it/s]\n"
     ]
    },
    {
     "name": "stdout",
     "output_type": "stream",
     "text": [
      "remaining time-to-event in validation/test set [25%, 37.5%, 50%, 62.5%, 75%] percentiles :  [ 97 141 182 210 271]\n",
      "Performance at quantiles : \n",
      "BS(t) at the percentiles :  {0.25: 0.0649, 0.375: 0.0905, 0.5: 0.1109, 0.625: 0.1248, 0.75: 0.1416}\n",
      "AUC(t) at the percentiles :  {0.25: 0.7588, 0.375: 0.7654, 0.5: 0.7698, 0.625: 0.7897, 0.75: 0.7846}\n",
      "mean AUC(t) over 25-75 percentile :  0.769\n",
      "Integrated BS(t) over 25-75 percentile :  0.1094\n"
     ]
    },
    {
     "name": "stderr",
     "output_type": "stream",
     "text": [
      "Bootstrapping...: 100%|██████████| 5000/5000 [00:45<00:00, 109.86it/s]\n"
     ]
    }
   ],
   "source": [
    "# load the trained model\n",
    "print('Loading the trained model...')\n",
    "print('run_id : ', run_id)\n",
    "path = 'model_performance/' + run_id + '/best_model.pt'\n",
    "try:\n",
    "    model_info = get_ckpt_model(path, model, DEVICE)\n",
    "except:\n",
    "    raise KeyError('Model not found...')\n",
    "\n",
    "# Process the held-out test set \n",
    "batch_dict_test = model.process_eval_data(data_test, data_info_dic, max_pred_window = max_pred_window, run_id = run_id, feat_reconstr = feat_reconstr, model_info = model_info)\n",
    "# Get estimated survival probabilities\n",
    "# Note : survival probs are estimated from the latest observation for each sample\n",
    "# due to generative nature, surv probs may be different across runs. In this example, we set the random seed to control non-deterministic elements\n",
    "surv_prob = model.get_surv_prob(batch_dict_test, model_info = model_info, max_pred_window = max_pred_window, filename_suffix = run_id, device = DEVICE, n_events = n_events)\n",
    "# Evaluate the model on the held-out set and obtain model performance summary\n",
    "df_test_result_comp = eval_model(model_info, batch_dict_test, surv_prob, run_id = run_id, max_pred_window = max_pred_window)"
   ]
  },
  {
   "cell_type": "code",
   "execution_count": 7,
   "metadata": {},
   "outputs": [
    {
     "data": {
      "text/html": [
       "<div>\n",
       "<style scoped>\n",
       "    .dataframe tbody tr th:only-of-type {\n",
       "        vertical-align: middle;\n",
       "    }\n",
       "\n",
       "    .dataframe tbody tr th {\n",
       "        vertical-align: top;\n",
       "    }\n",
       "\n",
       "    .dataframe thead th {\n",
       "        text-align: right;\n",
       "    }\n",
       "</style>\n",
       "<table border=\"1\" class=\"dataframe\">\n",
       "  <thead>\n",
       "    <tr style=\"text-align: right;\">\n",
       "      <th></th>\n",
       "      <th>param_set</th>\n",
       "      <th>best_epoch</th>\n",
       "      <th>ibs</th>\n",
       "      <th>mean_auc</th>\n",
       "      <th>bs 25 percentile</th>\n",
       "      <th>bs 25 percentile se</th>\n",
       "      <th>bs 50 percentile</th>\n",
       "      <th>bs 50 percentile se</th>\n",
       "      <th>bs 75 percentile</th>\n",
       "      <th>bs 75 percentile se</th>\n",
       "      <th>auc 25 percentile</th>\n",
       "      <th>auc 25 percentile se</th>\n",
       "      <th>auc 50 percentile</th>\n",
       "      <th>auc 50 percentile se</th>\n",
       "      <th>auc 75 percentile</th>\n",
       "      <th>auc 75 percentile se</th>\n",
       "    </tr>\n",
       "    <tr>\n",
       "      <th>result</th>\n",
       "      <th></th>\n",
       "      <th></th>\n",
       "      <th></th>\n",
       "      <th></th>\n",
       "      <th></th>\n",
       "      <th></th>\n",
       "      <th></th>\n",
       "      <th></th>\n",
       "      <th></th>\n",
       "      <th></th>\n",
       "      <th></th>\n",
       "      <th></th>\n",
       "      <th></th>\n",
       "      <th></th>\n",
       "      <th></th>\n",
       "      <th></th>\n",
       "    </tr>\n",
       "  </thead>\n",
       "  <tbody>\n",
       "    <tr>\n",
       "      <th>0</th>\n",
       "      <td>NaN</td>\n",
       "      <td>10</td>\n",
       "      <td>0.1094</td>\n",
       "      <td>0.769</td>\n",
       "      <td>0.0649</td>\n",
       "      <td>0.0058</td>\n",
       "      <td>0.1109</td>\n",
       "      <td>0.0061</td>\n",
       "      <td>0.1416</td>\n",
       "      <td>0.0059</td>\n",
       "      <td>0.7588</td>\n",
       "      <td>0.0338</td>\n",
       "      <td>0.7698</td>\n",
       "      <td>0.0227</td>\n",
       "      <td>0.7846</td>\n",
       "      <td>0.0189</td>\n",
       "    </tr>\n",
       "  </tbody>\n",
       "</table>\n",
       "</div>"
      ],
      "text/plain": [
       "       param_set best_epoch     ibs mean_auc bs 25 percentile  \\\n",
       "result                                                          \n",
       "0            NaN         10  0.1094    0.769           0.0649   \n",
       "\n",
       "       bs 25 percentile se bs 50 percentile bs 50 percentile se  \\\n",
       "result                                                            \n",
       "0                   0.0058           0.1109              0.0061   \n",
       "\n",
       "       bs 75 percentile bs 75 percentile se auc 25 percentile  \\\n",
       "result                                                          \n",
       "0                0.1416              0.0059            0.7588   \n",
       "\n",
       "       auc 25 percentile se auc 50 percentile auc 50 percentile se  \\\n",
       "result                                                               \n",
       "0                    0.0338            0.7698               0.0227   \n",
       "\n",
       "       auc 75 percentile auc 75 percentile se  \n",
       "result                                         \n",
       "0                 0.7846               0.0189  "
      ]
     },
     "execution_count": 7,
     "metadata": {},
     "output_type": "execute_result"
    }
   ],
   "source": [
    "df_test_result_comp"
   ]
  },
  {
   "cell_type": "markdown",
   "metadata": {},
   "source": [
    "## Plot estimated survival curves"
   ]
  },
  {
   "cell_type": "code",
   "execution_count": 22,
   "metadata": {},
   "outputs": [
    {
     "data": {
      "text/plain": [
       "<matplotlib.legend.Legend at 0x7f9572106490>"
      ]
     },
     "execution_count": 22,
     "metadata": {},
     "output_type": "execute_result"
    },
    {
     "data": {
      "image/png": "[encoded data removed]",
      "text/plain": [
       "<Figure size 396x396 with 1 Axes>"
      ]
     },
     "metadata": {
      "needs_background": "light"
     },
     "output_type": "display_data"
    }
   ],
   "source": [
    "# Note that our prediction window is from time 0 to time 800 (i.e. 0 - 8000 days).\n",
    "# Since survival probabilities are estimated from the latest observation of each patient (i.e. the latest observation is time 0 for each patient), \n",
    "# each patient has different last observation time in this case, resulting in a varying time window of estimated survival probabilities \n",
    "# For each patient, we include observed remaining time to event as well as event indicator.\n",
    "\n",
    "sample_ids = batch_dict_test['sample_ids']\n",
    "labels = batch_dict_test['labels']\n",
    "remaining_time_to_event = batch_dict_test['remaining_time_to_event']\n",
    "\n",
    "fig, axs = plt.subplots(1, 1, figsize=(5.5, 5.5))\n",
    "for idx, surv_prob_ind in enumerate(surv_prob[20:25]):\n",
    "    label = 'Patient ' + str(sample_ids[idx]) + ' (Remaining time to event :' + str(remaining_time_to_event[idx]) + ', Label : ' + str(labels[idx].numpy()[0]) + ')'\n",
    "    axs.plot(np.arange(300), surv_prob_ind[0:300], label = label)\n",
    "axs.set_title('Estimated survival curves over 3000 days\\nfrom the latest observations')\n",
    "axs.set_ylabel('S(t | X)')\n",
    "axs.set_xlabel('Follow-up time (10-day as a unit time)')\n",
    "axs.legend(bbox_to_anchor=(1,0.5), loc=\"center left\")"
   ]
  },
  {
   "cell_type": "code",
   "execution_count": null,
   "metadata": {},
   "outputs": [],
   "source": []
  }
 ],
 "metadata": {
  "kernelspec": {
   "display_name": "Python 3",
   "language": "python",
   "name": "python3"
  },
  "language_info": {
   "codemirror_mode": {
    "name": "ipython",
    "version": 3
   },
   "file_extension": ".py",
   "mimetype": "text/x-python",
   "name": "python",
   "nbconvert_exporter": "python",
   "pygments_lexer": "ipython3",
   "version": "3.7.4"
  }
 },
 "nbformat": 4,
 "nbformat_minor": 2
}
